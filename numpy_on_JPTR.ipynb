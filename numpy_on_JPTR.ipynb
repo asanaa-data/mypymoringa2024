{
 "cells": [
  {
   "cell_type": "code",
   "execution_count": 447,
   "id": "5b1d3bfa-1386-4b09-8573-b61a9d9f35d5",
   "metadata": {},
   "outputs": [
    {
     "name": "stdout",
     "output_type": "stream",
     "text": [
      "Array \"a\" is a 3-D array, with a (2, 2, 3) shape\n",
      "Array \"b\" is a 1-D array, with a (3,) shape\n",
      "Array \"c\" is a 0-D array, with a () shape\n",
      "Array \"d\" is a 1-D array, with a (1,) shape\n",
      "Array \"e\" is a 1-D array, with a (2,) shape\n",
      "Array \"f\" is a 2-D array, with a (2, 1) shape\n",
      "Array \"g\" is a 2-D array, with a (3, 1) shape\n",
      "Array \"h\" is a 2-D array, with a (4, 1) shape\n",
      "Array \"i\" is a 2-D array, with a (2, 2) shape\n",
      "Array \"j\" is a 2-D array, with a (3, 2) shape\n",
      "Array \"k\" is a 3-D array, with a (1, 3, 2) shape\n",
      "Array \"k1\" is a 4-D array, with a (1, 1, 3, 2) shape\n",
      "Array \"k2\" is a 5-D array, with a (1, 1, 1, 3, 2) shape\n"
     ]
    }
   ],
   "source": [
    "# studying numpy, date is 13 July 2024.\n",
    "# NumPy also provides us with fast and efficient, list-like, data types called N-Dimensional Arrays or ndarrays or more simply arrays.\n",
    "# A NumPy array can store a grid of values. All the values must be of the same type.\n",
    "import numpy as np\n",
    "a=np.array([ [[1,2,3],[3,4,5]] ,[[2,4,6],[6,8,10]] ])\n",
    "b=np.array([ 1,2,3])\n",
    "c=np.array(12)\n",
    "#c1=np.array(12,24) # this will retrun an error bcoz the multiple elements separated by a comma must be in braces either [],() or {}\n",
    "d=np.array([12])\n",
    "e=np.array([12,24]) # compare with array c1 (no braces vs braces in e)\n",
    "# the reason why all these i.e arrays \"f\",\"g\",\"h\",\"i\" are 2-arrays is because the elements are not nested lists like in array \"a\"\n",
    "f=np.array([ [12],[24] ]) # if you are gonna create more than 1 array then put then with in the master square braces\n",
    "g=np.array([ [12],[24],[36] ]) \n",
    "h=np.array([ [12],[24],[36],[64] ]) \n",
    "i=np.array([ [12,24],[36,64] ]) \n",
    "j=np.array([ [12,24],[36,64],[72,80] ])\n",
    "k=np.array([ [ [12,24],[36,64],[72,80] ] ])\n",
    "k1=np.array([ [ [[12,24],[36,64],[72,80]] ] ])\n",
    "k2=np.array([ [ [ [[12,24],[36,64],[72,80]] ] ] ])\n",
    "print(f'Array \"a\" is a {a.ndim}-D array, with a {a.shape} shape')\n",
    "print(f'Array \"b\" is a {b.ndim}-D array, with a {b.shape} shape') # actually b and e are the similar but one with 3 columns while the other has 2 columns\n",
    "print(f'Array \"c\" is a {c.ndim}-D array, with a {c.shape} shape') # notice the difference between array c and d\n",
    "print(f'Array \"d\" is a {d.ndim}-D array, with a {d.shape} shape') # notice the difference between array c and d\n",
    "print(f'Array \"e\" is a {e.ndim}-D array, with a {e.shape} shape') # notice the difference between array e and f\n",
    "print(f'Array \"f\" is a {f.ndim}-D array, with a {f.shape} shape') # notice the difference between array e and f\n",
    "print(f'Array \"g\" is a {g.ndim}-D array, with a {g.shape} shape') # still a 2-D array like array \"f\" the difference is in the nbr of rows but same nbr of columns\n",
    "print(f'Array \"h\" is a {h.ndim}-D array, with a {h.shape} shape') \n",
    "print(f'Array \"i\" is a {i.ndim}-D array, with a {i.shape} shape') \n",
    "print(f'Array \"j\" is a {j.ndim}-D array, with a {j.shape} shape') \n",
    "# now this is a 3-D array because its got nested lists as elements in the array\n",
    "print(f'Array \"k\" is a {k.ndim}-D array, with a {k.shape} shape') # i think counting the nbr of braces inside the array() fn helps give an idea of the dimentions\n",
    "# clearly from this example \"k1\" counting the nbr of braces as noted above helps give an idea of the dimentsions\n",
    "print(f'Array \"k1\" is a {k1.ndim}-D array, with a {k1.shape} shape') # a 4-D array\n",
    "print(f'Array \"k2\" is a {k2.ndim}-D array, with a {k2.shape} shape') # a 5-D array"
   ]
  },
  {
   "cell_type": "code",
   "execution_count": 203,
   "id": "fee839f9-6935-4e61-8704-2e61762da73e",
   "metadata": {},
   "outputs": [
    {
     "data": {
      "text/plain": [
       "array([[[[12, 24],\n",
       "         [36, 64],\n",
       "         [72, 80]]]])"
      ]
     },
     "execution_count": 203,
     "metadata": {},
     "output_type": "execute_result"
    }
   ],
   "source": [
    "k1"
   ]
  },
  {
   "cell_type": "code",
   "execution_count": 205,
   "id": "ec26d98b-4025-4969-b4cc-4f49307ae607",
   "metadata": {},
   "outputs": [
    {
     "data": {
      "text/plain": [
       "array([[[[[12, 24],\n",
       "          [36, 64],\n",
       "          [72, 80]]]]])"
      ]
     },
     "execution_count": 205,
     "metadata": {},
     "output_type": "execute_result"
    }
   ],
   "source": [
    "k2"
   ]
  },
  {
   "cell_type": "code",
   "execution_count": 206,
   "id": "3115baff-4eab-4209-b3e3-d5d8342ab30d",
   "metadata": {},
   "outputs": [
    {
     "data": {
      "text/plain": [
       "1"
      ]
     },
     "execution_count": 206,
     "metadata": {},
     "output_type": "execute_result"
    }
   ],
   "source": [
    "len(k2)"
   ]
  },
  {
   "cell_type": "code",
   "execution_count": 209,
   "id": "59387a68-83f8-4da7-b1e8-7eca566d3d2e",
   "metadata": {},
   "outputs": [
    {
     "data": {
      "text/plain": [
       "array([[[[12, 24],\n",
       "         [36, 64],\n",
       "         [72, 80]]]])"
      ]
     },
     "execution_count": 209,
     "metadata": {},
     "output_type": "execute_result"
    }
   ],
   "source": [
    "k2[0]"
   ]
  },
  {
   "cell_type": "code",
   "execution_count": 210,
   "id": "4719133a-2e66-422e-b4ad-4615a38639bc",
   "metadata": {},
   "outputs": [
    {
     "data": {
      "text/plain": [
       "2"
      ]
     },
     "execution_count": 210,
     "metadata": {},
     "output_type": "execute_result"
    }
   ],
   "source": [
    "j.ndim"
   ]
  },
  {
   "cell_type": "code",
   "execution_count": 211,
   "id": "3af02c78-11c5-4339-8d24-6badd6a0c88c",
   "metadata": {},
   "outputs": [
    {
     "data": {
      "text/plain": [
       "0.375"
      ]
     },
     "execution_count": 211,
     "metadata": {},
     "output_type": "execute_result"
    }
   ],
   "source": [
    "c/32"
   ]
  },
  {
   "cell_type": "code",
   "execution_count": 214,
   "id": "8bb5f5e1-130a-489a-b1f8-22c8ccd6a733",
   "metadata": {},
   "outputs": [
    {
     "data": {
      "text/plain": [
       "array([[[ 1,  2,  3],\n",
       "        [ 3,  4,  5]],\n",
       "\n",
       "       [[ 2,  4,  6],\n",
       "        [ 6,  8, 10]]])"
      ]
     },
     "execution_count": 214,
     "metadata": {},
     "output_type": "execute_result"
    }
   ],
   "source": [
    "a"
   ]
  },
  {
   "cell_type": "code",
   "execution_count": 216,
   "id": "edb86cc4-9581-410d-a747-e030d7320f33",
   "metadata": {},
   "outputs": [
    {
     "data": {
      "text/plain": [
       "array([[[[[ 6., 12.],\n",
       "          [18., 32.],\n",
       "          [36., 40.]]]]])"
      ]
     },
     "execution_count": 216,
     "metadata": {},
     "output_type": "execute_result"
    }
   ],
   "source": [
    "k2/2"
   ]
  },
  {
   "cell_type": "code",
   "execution_count": 217,
   "id": "d34eef3f-7880-4aac-b4bc-9f63bfc9829a",
   "metadata": {},
   "outputs": [
    {
     "data": {
      "text/plain": [
       "3"
      ]
     },
     "execution_count": 217,
     "metadata": {},
     "output_type": "execute_result"
    }
   ],
   "source": [
    "a.ndim"
   ]
  },
  {
   "cell_type": "code",
   "execution_count": 218,
   "id": "ff1c7335-8877-4b8c-a3e1-3f5e651a645f",
   "metadata": {},
   "outputs": [
    {
     "data": {
      "text/plain": [
       "1"
      ]
     },
     "execution_count": 218,
     "metadata": {},
     "output_type": "execute_result"
    }
   ],
   "source": [
    "b.ndim"
   ]
  },
  {
   "cell_type": "code",
   "execution_count": 221,
   "id": "7014fc87-d795-4a07-83a1-f78ba6f126a0",
   "metadata": {},
   "outputs": [
    {
     "data": {
      "text/plain": [
       "0"
      ]
     },
     "execution_count": 221,
     "metadata": {},
     "output_type": "execute_result"
    }
   ],
   "source": [
    "c.ndim"
   ]
  },
  {
   "cell_type": "code",
   "execution_count": 223,
   "id": "0366dbd3-31ba-4d0f-9d93-7fe376389d88",
   "metadata": {},
   "outputs": [
    {
     "data": {
      "text/plain": [
       "1"
      ]
     },
     "execution_count": 223,
     "metadata": {},
     "output_type": "execute_result"
    }
   ],
   "source": [
    "d.ndim"
   ]
  },
  {
   "cell_type": "code",
   "execution_count": 225,
   "id": "0b6a7d7c-a5d8-4849-85e2-4bb5c73a58e9",
   "metadata": {},
   "outputs": [
    {
     "data": {
      "text/plain": [
       "(3,)"
      ]
     },
     "execution_count": 225,
     "metadata": {},
     "output_type": "execute_result"
    }
   ],
   "source": [
    "b.shape"
   ]
  },
  {
   "cell_type": "code",
   "execution_count": 226,
   "id": "f9c317e4-651f-4b90-8b0d-5a4b684e7f5b",
   "metadata": {},
   "outputs": [
    {
     "data": {
      "text/plain": [
       "(2, 2, 3)"
      ]
     },
     "execution_count": 226,
     "metadata": {},
     "output_type": "execute_result"
    }
   ],
   "source": [
    "a.shape"
   ]
  },
  {
   "cell_type": "code",
   "execution_count": 227,
   "id": "76b031b1-9dd1-4184-83c7-46aff937a5de",
   "metadata": {},
   "outputs": [
    {
     "data": {
      "text/plain": [
       "()"
      ]
     },
     "execution_count": 227,
     "metadata": {},
     "output_type": "execute_result"
    }
   ],
   "source": [
    "c.shape"
   ]
  },
  {
   "cell_type": "code",
   "execution_count": 229,
   "id": "49e481b0-2cf0-46a3-9e62-58436e276135",
   "metadata": {},
   "outputs": [
    {
     "data": {
      "text/plain": [
       "(1,)"
      ]
     },
     "execution_count": 229,
     "metadata": {},
     "output_type": "execute_result"
    }
   ],
   "source": [
    "d.shape"
   ]
  },
  {
   "cell_type": "code",
   "execution_count": 232,
   "id": "a3b6ecef-1efd-4445-a40b-b4dad3faee1a",
   "metadata": {},
   "outputs": [
    {
     "data": {
      "text/plain": [
       "array(12)"
      ]
     },
     "execution_count": 232,
     "metadata": {},
     "output_type": "execute_result"
    }
   ],
   "source": [
    "c"
   ]
  },
  {
   "cell_type": "code",
   "execution_count": 234,
   "id": "5e40b637-8e44-4210-aaaf-7dc62d5ac5e2",
   "metadata": {},
   "outputs": [
    {
     "data": {
      "text/plain": [
       "array([12])"
      ]
     },
     "execution_count": 234,
     "metadata": {},
     "output_type": "execute_result"
    }
   ],
   "source": [
    "d"
   ]
  },
  {
   "cell_type": "code",
   "execution_count": 237,
   "id": "cd36216b-a25e-4f48-ada0-679e0bb1e5a3",
   "metadata": {},
   "outputs": [
    {
     "data": {
      "text/plain": [
       "array([12, 24])"
      ]
     },
     "execution_count": 237,
     "metadata": {},
     "output_type": "execute_result"
    }
   ],
   "source": [
    "e"
   ]
  },
  {
   "cell_type": "code",
   "execution_count": 238,
   "id": "d3724b93-8764-46e0-a135-fb6978423fdf",
   "metadata": {},
   "outputs": [
    {
     "data": {
      "text/plain": [
       "array([24])"
      ]
     },
     "execution_count": 238,
     "metadata": {},
     "output_type": "execute_result"
    }
   ],
   "source": [
    "# numPy can also allow two or more arrays to operate on one another. \n",
    "c+d"
   ]
  },
  {
   "cell_type": "code",
   "execution_count": 239,
   "id": "887661ff-1e37-4001-b321-b634cc3aaaf4",
   "metadata": {},
   "outputs": [
    {
     "data": {
      "text/plain": [
       "array([24, 36])"
      ]
     },
     "execution_count": 239,
     "metadata": {},
     "output_type": "execute_result"
    }
   ],
   "source": [
    "d+e"
   ]
  },
  {
   "cell_type": "code",
   "execution_count": 240,
   "id": "12de54a2-7cde-4e72-bb17-cf27444f2361",
   "metadata": {},
   "outputs": [
    {
     "data": {
      "text/plain": [
       "array([[24, 36],\n",
       "       [36, 48]])"
      ]
     },
     "execution_count": 240,
     "metadata": {},
     "output_type": "execute_result"
    }
   ],
   "source": [
    "e+f"
   ]
  },
  {
   "cell_type": "code",
   "execution_count": 241,
   "id": "d7e25b5f-40f6-4391-b9d4-309e496d85bb",
   "metadata": {},
   "outputs": [
    {
     "name": "stdout",
     "output_type": "stream",
     "text": [
      "-----------------------------------------\n",
      "Time it takes to add 1 to each element in a list without NumPy: 0.05238543700033915\n",
      "Time it takes to add 1 to each element in a list with NumPy: 0.003399032999368501\n",
      "NumPy completes the operation 93 % faster than a traditional list\n"
     ]
    }
   ],
   "source": [
    "print(\"-----------------------------------------\")\n",
    "# time difference between how long it takes us to perform the same operation with and without NumPy.\n",
    "import time\n",
    "\n",
    "# Using 1 million integers\n",
    "huge_list_of_integers = list(range(0, 1000000))\n",
    "huge_np_array_of_integers = np.array(huge_list_of_integers)\n",
    "\n",
    "def add_one(list_of_ints):\n",
    "    return [num + 1 for num in list_of_ints]\n",
    "\n",
    "\n",
    "start_time = time.perf_counter() # Time when operation starts\n",
    "add_one(huge_list_of_integers) # Adds 1 to each number in the list of integers above\n",
    "end_time = time.perf_counter() # Time when operation finishes\n",
    "total_time = (end_time - start_time) # Total time for operation\n",
    "\n",
    "\n",
    "start_time_with_np = time.perf_counter() # Time when operation starts\n",
    "huge_np_array_of_integers + 1 # Adds 1 to each number in the array of integers\n",
    "end_time_with_np = time.perf_counter() # Time when operation finishes\n",
    "total_time_with_np = (end_time_with_np - start_time_with_np) # Total time for operation\n",
    "\n",
    "print('Time it takes to add 1 to each element in a list without NumPy:', total_time)\n",
    "print('Time it takes to add 1 to each element in a list with NumPy:', total_time_with_np)\n",
    "\n",
    "percent_faster = int((((total_time - total_time_with_np)/total_time)*100))\n",
    "print('NumPy completes the operation', percent_faster, '% faster than a traditional list')"
   ]
  },
  {
   "cell_type": "code",
   "execution_count": 242,
   "id": "0ccdb584-86db-4e5c-8411-3e58a4ad15bc",
   "metadata": {},
   "outputs": [
    {
     "data": {
      "text/plain": [
       "array([5, 7, 9])"
      ]
     },
     "execution_count": 242,
     "metadata": {},
     "output_type": "execute_result"
    }
   ],
   "source": [
    "# adding two arrays\n",
    "np.array([1, 2, 3]) + np.array([4, 5, 6])"
   ]
  },
  {
   "cell_type": "code",
   "execution_count": 243,
   "id": "b92b9584-dff5-4434-87bd-3ae8bc095ebe",
   "metadata": {},
   "outputs": [
    {
     "data": {
      "text/plain": [
       "[1, 2, 3, 4, 5, 6]"
      ]
     },
     "execution_count": 243,
     "metadata": {},
     "output_type": "execute_result"
    }
   ],
   "source": [
    "# Adding raw lists is just appending\n",
    "[1, 2, 3] + [4, 5, 6]"
   ]
  },
  {
   "cell_type": "code",
   "execution_count": 244,
   "id": "4bbf7c1e-1e38-470f-8e01-9c3a25ee3840",
   "metadata": {},
   "outputs": [
    {
     "data": {
      "text/plain": [
       "array([5, 7, 9])"
      ]
     },
     "execution_count": 244,
     "metadata": {},
     "output_type": "execute_result"
    }
   ],
   "source": [
    "# SAdding arrays with built-in method\n",
    "x = np.array([1, 2, 3])\n",
    "y = np.array([4, 5, 6])\n",
    "np.add(x, y)"
   ]
  },
  {
   "cell_type": "code",
   "execution_count": 245,
   "id": "0e1e5243-cf61-45d4-971c-c8e45f1d7937",
   "metadata": {},
   "outputs": [
    {
     "name": "stdout",
     "output_type": "stream",
     "text": [
      "<class 'list'>\n",
      "[[1, 2], [3, 4]]\n",
      "-------------------------\n",
      "<class 'numpy.ndarray'>\n"
     ]
    },
    {
     "data": {
      "text/plain": [
       "array([[1, 2],\n",
       "       [3, 4]])"
      ]
     },
     "execution_count": 245,
     "metadata": {},
     "output_type": "execute_result"
    }
   ],
   "source": [
    "# An ordinary nested list\n",
    "y = [[1, 2], [3, 4]]\n",
    "print(type(y))\n",
    "print(y)\n",
    "print('-------------------------')\n",
    "# Reformatted as a NumPy array\n",
    "ya = np.array([[1, 2], [3, 4]])\n",
    "print(type(ya))\n",
    "ya"
   ]
  },
  {
   "cell_type": "code",
   "execution_count": 246,
   "id": "7dbfd630-228e-43d2-9917-8f0e70cc2c5a",
   "metadata": {},
   "outputs": [
    {
     "data": {
      "text/plain": [
       "(2, 2)"
      ]
     },
     "execution_count": 246,
     "metadata": {},
     "output_type": "execute_result"
    }
   ],
   "source": [
    "ya.shape"
   ]
  },
  {
   "cell_type": "code",
   "execution_count": 247,
   "id": "ba04f767-b0cd-4bdb-9d28-cf109db6a853",
   "metadata": {},
   "outputs": [
    {
     "data": {
      "text/plain": [
       "2"
      ]
     },
     "execution_count": 247,
     "metadata": {},
     "output_type": "execute_result"
    }
   ],
   "source": [
    "5 // 2 # Returns only the quotient"
   ]
  },
  {
   "cell_type": "code",
   "execution_count": 248,
   "id": "7a2f4680-9629-4693-914b-5abf4b61bb75",
   "metadata": {},
   "outputs": [
    {
     "data": {
      "text/plain": [
       "1"
      ]
     },
     "execution_count": 248,
     "metadata": {},
     "output_type": "execute_result"
    }
   ],
   "source": [
    "5%2 # return the reminder"
   ]
  },
  {
   "cell_type": "code",
   "execution_count": 249,
   "id": "20690d57-e92d-4b19-abb7-d027ac96ed49",
   "metadata": {},
   "outputs": [],
   "source": [
    "# String indexing\n",
    "str1 = \"This is Python programming for data science\""
   ]
  },
  {
   "cell_type": "code",
   "execution_count": 250,
   "id": "cf2f391d-822a-4f55-8e13-ec107d582baa",
   "metadata": {},
   "outputs": [
    {
     "data": {
      "text/plain": [
       "'h'"
      ]
     },
     "execution_count": 250,
     "metadata": {},
     "output_type": "execute_result"
    }
   ],
   "source": [
    "str1[1] # we are asking python to output the element in index 1"
   ]
  },
  {
   "cell_type": "code",
   "execution_count": 251,
   "id": "211b8042-fac5-443a-a0b0-3ea1b5c166ac",
   "metadata": {},
   "outputs": [
    {
     "data": {
      "text/plain": [
       "43"
      ]
     },
     "execution_count": 251,
     "metadata": {},
     "output_type": "execute_result"
    }
   ],
   "source": [
    "len(str1) # the len() function gives us get the length of our string"
   ]
  },
  {
   "cell_type": "code",
   "execution_count": 252,
   "id": "d95c7c02-fb06-41eb-b25f-a8cfa745893a",
   "metadata": {},
   "outputs": [
    {
     "data": {
      "text/plain": [
       "['This', 'is', 'Python', 'programming', 'for', 'data', 'science']"
      ]
     },
     "execution_count": 252,
     "metadata": {},
     "output_type": "execute_result"
    }
   ],
   "source": [
    "# You can split a string using the split() function. \n",
    "# It splits a string into a list where each word is a list element. You can specify the separator.\n",
    "# By default, the separator is any whitespace.\n",
    "\n",
    "# Splitting a string on any whitespace\n",
    "str1.split(\" \")"
   ]
  },
  {
   "cell_type": "code",
   "execution_count": 253,
   "id": "7bddf3d0-dbf9-42ad-ab39-234674fcfe90",
   "metadata": {},
   "outputs": [
    {
     "data": {
      "text/plain": [
       "['This', 'is', 'Python', 'programming', 'for', 'data', 'science']"
      ]
     },
     "execution_count": 253,
     "metadata": {},
     "output_type": "execute_result"
    }
   ],
   "source": [
    "# Splitting a string on any whitespace and assigning the result to a varaible\n",
    "split_str1 = str1.split(\" \")\n",
    "split_str1"
   ]
  },
  {
   "cell_type": "code",
   "execution_count": 254,
   "id": "fd4c4b11-ce81-4a0a-9880-b35381f66ef0",
   "metadata": {},
   "outputs": [
    {
     "data": {
      "text/plain": [
       "['This', 'is', 'Python', 'programming', 'for', 'data', 'science']"
      ]
     },
     "execution_count": 254,
     "metadata": {},
     "output_type": "execute_result"
    }
   ],
   "source": [
    "split_str1"
   ]
  },
  {
   "cell_type": "code",
   "execution_count": 255,
   "id": "cf348c2a-022a-4348-a581-70651003524a",
   "metadata": {},
   "outputs": [
    {
     "data": {
      "text/plain": [
       "'is'"
      ]
     },
     "execution_count": 255,
     "metadata": {},
     "output_type": "execute_result"
    }
   ],
   "source": [
    "split_str1[1]"
   ]
  },
  {
   "cell_type": "code",
   "execution_count": 256,
   "id": "bee557cd-296b-4271-b827-6068b8b4d5ad",
   "metadata": {},
   "outputs": [],
   "source": [
    "split_str1[1] = 'i5' # this works because lists are mutable while string are immutable.\n",
    "# I tried replacing str1[1] index but it returned an error"
   ]
  },
  {
   "cell_type": "code",
   "execution_count": 257,
   "id": "47ce06fc-6146-4523-a781-340c34374de4",
   "metadata": {},
   "outputs": [
    {
     "data": {
      "text/plain": [
       "['This', 'i5', 'Python', 'programming', 'for', 'data', 'science']"
      ]
     },
     "execution_count": 257,
     "metadata": {},
     "output_type": "execute_result"
    }
   ],
   "source": [
    "split_str1"
   ]
  },
  {
   "cell_type": "code",
   "execution_count": 258,
   "id": "770ec72a-3ccc-47fa-80fd-c30ced0c1cb8",
   "metadata": {},
   "outputs": [
    {
     "data": {
      "text/plain": [
       "['This', 'i5', 'Python', 'programming', 'for', 'data', 'science']"
      ]
     },
     "execution_count": 258,
     "metadata": {},
     "output_type": "execute_result"
    }
   ],
   "source": [
    "# split() function syntax: string_variable.split(separator, maxsplit)\n",
    "# basically you are telling the split function to split by white spaces AND make the 3 indices long. see line 100 below example\n",
    "split_str1"
   ]
  },
  {
   "cell_type": "code",
   "execution_count": 259,
   "id": "0bec02db-18eb-41c4-80ee-5638c909a61b",
   "metadata": {},
   "outputs": [
    {
     "data": {
      "text/plain": [
       "'This is Python programming for data science'"
      ]
     },
     "execution_count": 259,
     "metadata": {},
     "output_type": "execute_result"
    }
   ],
   "source": [
    "str1"
   ]
  },
  {
   "cell_type": "code",
   "execution_count": 260,
   "id": "672f6aae-bc73-49e7-a748-aa4e478613d0",
   "metadata": {},
   "outputs": [],
   "source": [
    "split_by_3 = str1.split(' ',3) # split by whitespaces and make the list 3 indices long.\n",
    "# spliting the string only 3 times"
   ]
  },
  {
   "cell_type": "code",
   "execution_count": 268,
   "id": "e9df0a6a-0063-4edd-b881-d882a944a14f",
   "metadata": {},
   "outputs": [
    {
     "data": {
      "text/plain": [
       "['This', 'is', 'Python', 'programming for data science']"
      ]
     },
     "execution_count": 268,
     "metadata": {},
     "output_type": "execute_result"
    }
   ],
   "source": [
    "split_by_3"
   ]
  },
  {
   "cell_type": "code",
   "execution_count": 288,
   "id": "73df8257-3146-4b78-9f03-d3c5944c6604",
   "metadata": {},
   "outputs": [
    {
     "data": {
      "text/plain": [
       "4"
      ]
     },
     "execution_count": 288,
     "metadata": {},
     "output_type": "execute_result"
    }
   ],
   "source": [
    "len(split_by_3)"
   ]
  },
  {
   "cell_type": "code",
   "execution_count": 289,
   "id": "fede3aed-49b5-43e4-bf79-e462efb428c5",
   "metadata": {},
   "outputs": [
    {
     "data": {
      "text/plain": [
       "3"
      ]
     },
     "execution_count": 289,
     "metadata": {},
     "output_type": "execute_result"
    }
   ],
   "source": [
    "# If a list is too long, it will be difficult to find the index of elements we want to access.\n",
    "# In that case, you can use .index() to find the index of the value of interest at its first occurrence.\n",
    "# \n",
    "lst = [1,2,3,4,5]\n",
    "lst.index(4) # Searching for the index where a value 4 appears for the first time"
   ]
  },
  {
   "cell_type": "code",
   "execution_count": 290,
   "id": "ff926e65-7ecf-4841-bead-45446359ecf0",
   "metadata": {},
   "outputs": [
    {
     "data": {
      "text/plain": [
       "[1, 3, 5]"
      ]
     },
     "execution_count": 290,
     "metadata": {},
     "output_type": "execute_result"
    }
   ],
   "source": [
    "lst[0:5:2] # Accessing every second element of lst"
   ]
  },
  {
   "cell_type": "code",
   "execution_count": 291,
   "id": "82c80644-af11-47c4-9f33-76f1896afd66",
   "metadata": {},
   "outputs": [
    {
     "data": {
      "text/plain": [
       "[1, 3, 5]"
      ]
     },
     "execution_count": 291,
     "metadata": {},
     "output_type": "execute_result"
    }
   ],
   "source": [
    "lst[0:len(lst):2] # this is my try to ensure i cover all elements in the list incase i do not know the lenghth of the list.\n",
    "# this line is meant to get every 2nd element in the whole list. I think it worked bcoz len() fn returns a number"
   ]
  },
  {
   "cell_type": "code",
   "execution_count": 292,
   "id": "2f0d7cd5-23c1-436a-bfc6-05b54a95736f",
   "metadata": {},
   "outputs": [
    {
     "data": {
      "text/plain": [
       "range(0, 5)"
      ]
     },
     "execution_count": 292,
     "metadata": {},
     "output_type": "execute_result"
    }
   ],
   "source": [
    "# today 15 July 2024\n",
    "\n",
    "# Create a NumPy array for each of the following: 1. Using a range 2. Using a Python list\n",
    "py_list = [1,2,3],[3,4,5],[2,4,6],[6,8,10]\n",
    "py_range = range(0,5) # creating a range of numbers from 0 to 4\n",
    "py_range"
   ]
  },
  {
   "cell_type": "code",
   "execution_count": 293,
   "id": "836612e8-c899-4dba-a77d-fe7a42b7a975",
   "metadata": {},
   "outputs": [
    {
     "data": {
      "text/plain": [
       "[0, 1, 2, 3, 4]"
      ]
     },
     "execution_count": 293,
     "metadata": {},
     "output_type": "execute_result"
    }
   ],
   "source": [
    "# in order to see the individual elements in our range we need to put the result in a list\n",
    "py_range1 = list(range(0,5)) # literally converting the range into a list\n",
    "py_range1"
   ]
  },
  {
   "cell_type": "code",
   "execution_count": 294,
   "id": "9d5dcd95-8a52-422b-8d6b-8ffd5f75336b",
   "metadata": {},
   "outputs": [
    {
     "data": {
      "text/plain": [
       "([1, 2, 3], [3, 4, 5], [2, 4, 6], [6, 8, 10])"
      ]
     },
     "execution_count": 294,
     "metadata": {},
     "output_type": "execute_result"
    }
   ],
   "source": [
    "py_list"
   ]
  },
  {
   "cell_type": "code",
   "execution_count": 295,
   "id": "2b6fb34d-209c-4545-8682-b97a94f33a91",
   "metadata": {},
   "outputs": [],
   "source": [
    "# use the list and range to create NumPy arrays\n",
    "array_from_list = np.array(py_list)\n",
    "array_from_range = np.array(py_range1)"
   ]
  },
  {
   "cell_type": "code",
   "execution_count": 296,
   "id": "da56da58-356e-42cd-b0ed-e64daeb08c98",
   "metadata": {},
   "outputs": [
    {
     "data": {
      "text/plain": [
       "array([[ 1,  2,  3],\n",
       "       [ 3,  4,  5],\n",
       "       [ 2,  4,  6],\n",
       "       [ 6,  8, 10]])"
      ]
     },
     "execution_count": 296,
     "metadata": {},
     "output_type": "execute_result"
    }
   ],
   "source": [
    "array_from_list"
   ]
  },
  {
   "cell_type": "code",
   "execution_count": 297,
   "id": "336f5f0c-ae29-412c-bf11-ad077213b5d4",
   "metadata": {},
   "outputs": [
    {
     "data": {
      "text/plain": [
       "array([0, 1, 2, 3, 4])"
      ]
     },
     "execution_count": 297,
     "metadata": {},
     "output_type": "execute_result"
    }
   ],
   "source": [
    "array_from_range"
   ]
  },
  {
   "cell_type": "code",
   "execution_count": 298,
   "id": "ba2d50ae-81b7-4065-bfa0-60bef4bc6f09",
   "metadata": {},
   "outputs": [
    {
     "data": {
      "text/plain": [
       "array([1.651 , 1.7272, 1.8542, 1.905 , 1.9812])"
      ]
     },
     "execution_count": 298,
     "metadata": {},
     "output_type": "execute_result"
    }
   ],
   "source": [
    "# Trying to get the BMI of the heights and weights below\n",
    "\n",
    "\n",
    "# we have a list of heights and weights and we'd like to use them to create a collection of BMIs.\n",
    "# However, they are both in inches and pounds (imperial system), respectively.\n",
    "\n",
    "# 1.0 inch = 0.0254 meters\n",
    "\n",
    "# 2.2046 lbs = 1 kilogram\n",
    "\n",
    "# Use the conversion rate for turning height in inches to meters\n",
    "list_height_inches = [65, 68, 73, 75, 78]\n",
    "\n",
    "# first convert the list of heights into an array and multiply the elements by the factory to get heights in inches\n",
    "array_height_inches = np.array(list_height_inches)\n",
    "array_height_meters = array_height_inches*0.0254\n",
    "array_height_meters"
   ]
  },
  {
   "cell_type": "code",
   "execution_count": 299,
   "id": "0c5e66ba-7dbc-4fc6-9989-356089ccf601",
   "metadata": {},
   "outputs": [
    {
     "data": {
      "text/plain": [
       "array([ 68.03955366,  63.50358342,  99.79134537,  92.98739   ,\n",
       "       120.20321147])"
      ]
     },
     "execution_count": 299,
     "metadata": {},
     "output_type": "execute_result"
    }
   ],
   "source": [
    "# Use the conversion rate for turning weight in pounds to kilograms\n",
    "list_weight_pounds = [150, 140, 220, 205, 265]\n",
    "\n",
    "# Your code here\n",
    "array_weight_pounds = np.array(list_weight_pounds)\n",
    "array_weight_kg = array_weight_pounds/2.2046\n",
    "array_weight_kg"
   ]
  },
  {
   "cell_type": "code",
   "execution_count": 301,
   "id": "2432312b-b21b-4338-b825-ddf658f88e91",
   "metadata": {},
   "outputs": [
    {
     "data": {
      "text/plain": [
       "array([24.9613063 , 21.28692715, 29.02550097, 25.62324316, 30.62382485])"
      ]
     },
     "execution_count": 301,
     "metadata": {},
     "output_type": "execute_result"
    }
   ],
   "source": [
    "# using the aove arrays to get the BMI\n",
    "# BMI = weight (kg) ÷ height^2 (m^2)\n",
    "\n",
    "BMI_array = array_weight_kg/(array_height_meters**2)\n",
    "BMI_array"
   ]
  },
  {
   "cell_type": "code",
   "execution_count": 405,
   "id": "833eef01-35aa-44c7-b933-e7f3c45965e5",
   "metadata": {},
   "outputs": [
    {
     "name": "stdout",
     "output_type": "stream",
     "text": [
      "The file has 853 lines.\n"
     ]
    }
   ],
   "source": [
    "#  Using NumPy and Pandas to Parse a File\n",
    "\n",
    "'''\n",
    "The Pandas library that we've been using is built on top of NumPy; \n",
    "all columns/series in a Pandas DataFrame are built using NumPy arrays. \n",
    "To get a better idea of a how a built-in method like pd.read_csv() works, \n",
    "we'll try and recreate that here!\n",
    "'''\n",
    "\n",
    "# Open a text file (csv files are just plaintext separated by commas)\n",
    "f = open('WorldCupMatches.csv') # the open() function is a base python function for opening and reading files\n",
    "# i think it worked because base python has a function called open() that reads files\n",
    "\n",
    "n_rows = len(f.readlines())\n",
    "# Print number of lines in the file\n",
    "print('The file has {} lines.'.format(n_rows))\n",
    "# After using readlines, we must reopen the file\n",
    "f = open('WorldCupMatches.csv')\n",
    "# The file has values separated by tabs; we read the first line and check it's length\n",
    "n_cols = (len(f.readline().split('\\t')))\n",
    "\n",
    "f = open('WorldCupMatches.csv')\n",
    "\n",
    "# Your code here\n",
    "# Pseudocode outline below\n",
    "#1) Create a matrix of zeros that is the same size of the file\n",
    "#2) Iterate through the file: \"for line in f:\" Hint: using enumerate will also be required\n",
    "    #3) Update each row of the matrix with the new stream of data\n",
    "    #Hint: skip the first row (it's just column names, not the data.)\n",
    "#4) Preview your results; you should now have a NumPy matrix with the data from the file\n"
   ]
  },
  {
   "cell_type": "code",
   "execution_count": 407,
   "id": "234f70fe-a833-4707-af5b-b2e44b15dcc9",
   "metadata": {},
   "outputs": [
    {
     "data": {
      "text/plain": [
       "<_io.TextIOWrapper name='WorldCupMatches.csv' mode='r' encoding='UTF-8'>"
      ]
     },
     "execution_count": 407,
     "metadata": {},
     "output_type": "execute_result"
    }
   ],
   "source": [
    "f # see the difference when you use open() vs pandas function for reading csvs ('read_csv()')"
   ]
  },
  {
   "cell_type": "code",
   "execution_count": 409,
   "id": "33f754b0-7af6-41ee-97b6-9daac54a5a82",
   "metadata": {},
   "outputs": [
    {
     "name": "stdout",
     "output_type": "stream",
     "text": [
      "Year,Datetime,Stage,Stadium,City,Home Team Name,Home Team Goals,Away Team Goals,Away Team Name,Win conditions,Attendance,Half-time Home Goals,Half-time Away Goals,Referee,Assistant 1,Assistant 2,RoundID,MatchID,Home Team Initials,Away Team Initials\n",
      "\n",
      "1930,\"13 Jul 1930 - 15:00 \",Group 1,Pocitos,\"Montevideo \",France,4,1,Mexico,\" \",4444,3,0,LOMBARDI Domingo (URU),CRISTOPHE Henry (BEL),REGO Gilberto (BRA),201,1096,FRA,MEX\n",
      "\n",
      "1930,\"13 Jul 1930 - 15:00 \",Group 4,Parque Central,\"Montevideo \",USA,3,0,Belgium,\" \",18346,2,0,MACIAS Jose (ARG),MATEUCCI Francisco (URU),WARNKEN Alberto (CHI),201,1090,USA,BEL\n",
      "\n",
      "1930,\"14 Jul 1930 - 12:45 \",Group 2,Parque Central,\"Montevideo \",Yugoslavia,2,1,Brazil,\" \",24059,2,0,TEJADA Anibal (URU),VALLARINO Ricardo (URU),BALWAY Thomas (FRA),201,1093,YUG,BRA\n",
      "\n",
      "1930,\"14 Jul 1930 - 14:50 \",Group 3,Pocitos,\"Montevideo \",Romania,3,1,Peru,\" \",2549,1,0,WARNKEN Alberto (CHI),LANGENUS Jean (BEL),MATEUCCI Francisco (URU),201,1098,ROU,PER\n",
      "\n"
     ]
    }
   ],
   "source": [
    "'''\n",
    "Print the first 5 rows of data using base python\n",
    "'''\n",
    "\n",
    "# in order to view the contents of the WorldCupMatches.csv opened and stored in our variable 'f'\n",
    "# we need to convert the 'f' data to a list\n",
    "\n",
    "# see code before the last two lines that did not work bcoz the loop could not iterate over the indices\n",
    "\n",
    "#for any_index in range(5): # this only works for lists\n",
    "    #print(f[any_index]) # f variable we used to store the WorldCupMatches data is not a list\n",
    "\n",
    "# converting our WorldCupMatches data into a list\n",
    "f_list = list(f)\n",
    "for any_index in range(5): # this only works for lists\n",
    "    print(f_list[any_index])"
   ]
  },
  {
   "cell_type": "code",
   "execution_count": 425,
   "id": "7c60acf0-9a60-46cc-be46-0000ac4b3d06",
   "metadata": {},
   "outputs": [
    {
     "data": {
      "text/html": [
       "<div>\n",
       "<style scoped>\n",
       "    .dataframe tbody tr th:only-of-type {\n",
       "        vertical-align: middle;\n",
       "    }\n",
       "\n",
       "    .dataframe tbody tr th {\n",
       "        vertical-align: top;\n",
       "    }\n",
       "\n",
       "    .dataframe thead th {\n",
       "        text-align: right;\n",
       "    }\n",
       "</style>\n",
       "<table border=\"1\" class=\"dataframe\">\n",
       "  <thead>\n",
       "    <tr style=\"text-align: right;\">\n",
       "      <th></th>\n",
       "      <th>Year</th>\n",
       "      <th>Datetime</th>\n",
       "      <th>Stage</th>\n",
       "      <th>Stadium</th>\n",
       "      <th>City</th>\n",
       "      <th>Home Team Name</th>\n",
       "      <th>Home Team Goals</th>\n",
       "      <th>Away Team Goals</th>\n",
       "      <th>Away Team Name</th>\n",
       "      <th>Win conditions</th>\n",
       "      <th>Attendance</th>\n",
       "      <th>Half-time Home Goals</th>\n",
       "      <th>Half-time Away Goals</th>\n",
       "      <th>Referee</th>\n",
       "      <th>Assistant 1</th>\n",
       "      <th>Assistant 2</th>\n",
       "      <th>RoundID</th>\n",
       "      <th>MatchID</th>\n",
       "      <th>Home Team Initials</th>\n",
       "      <th>Away Team Initials</th>\n",
       "    </tr>\n",
       "  </thead>\n",
       "  <tbody>\n",
       "    <tr>\n",
       "      <th>0</th>\n",
       "      <td>1930</td>\n",
       "      <td>13 Jul 1930 - 15:00</td>\n",
       "      <td>Group 1</td>\n",
       "      <td>Pocitos</td>\n",
       "      <td>Montevideo</td>\n",
       "      <td>France</td>\n",
       "      <td>4</td>\n",
       "      <td>1</td>\n",
       "      <td>Mexico</td>\n",
       "      <td></td>\n",
       "      <td>4444.0</td>\n",
       "      <td>3</td>\n",
       "      <td>0</td>\n",
       "      <td>LOMBARDI Domingo (URU)</td>\n",
       "      <td>CRISTOPHE Henry (BEL)</td>\n",
       "      <td>REGO Gilberto (BRA)</td>\n",
       "      <td>201</td>\n",
       "      <td>1096</td>\n",
       "      <td>FRA</td>\n",
       "      <td>MEX</td>\n",
       "    </tr>\n",
       "    <tr>\n",
       "      <th>1</th>\n",
       "      <td>1930</td>\n",
       "      <td>13 Jul 1930 - 15:00</td>\n",
       "      <td>Group 4</td>\n",
       "      <td>Parque Central</td>\n",
       "      <td>Montevideo</td>\n",
       "      <td>USA</td>\n",
       "      <td>3</td>\n",
       "      <td>0</td>\n",
       "      <td>Belgium</td>\n",
       "      <td></td>\n",
       "      <td>18346.0</td>\n",
       "      <td>2</td>\n",
       "      <td>0</td>\n",
       "      <td>MACIAS Jose (ARG)</td>\n",
       "      <td>MATEUCCI Francisco (URU)</td>\n",
       "      <td>WARNKEN Alberto (CHI)</td>\n",
       "      <td>201</td>\n",
       "      <td>1090</td>\n",
       "      <td>USA</td>\n",
       "      <td>BEL</td>\n",
       "    </tr>\n",
       "    <tr>\n",
       "      <th>2</th>\n",
       "      <td>1930</td>\n",
       "      <td>14 Jul 1930 - 12:45</td>\n",
       "      <td>Group 2</td>\n",
       "      <td>Parque Central</td>\n",
       "      <td>Montevideo</td>\n",
       "      <td>Yugoslavia</td>\n",
       "      <td>2</td>\n",
       "      <td>1</td>\n",
       "      <td>Brazil</td>\n",
       "      <td></td>\n",
       "      <td>24059.0</td>\n",
       "      <td>2</td>\n",
       "      <td>0</td>\n",
       "      <td>TEJADA Anibal (URU)</td>\n",
       "      <td>VALLARINO Ricardo (URU)</td>\n",
       "      <td>BALWAY Thomas (FRA)</td>\n",
       "      <td>201</td>\n",
       "      <td>1093</td>\n",
       "      <td>YUG</td>\n",
       "      <td>BRA</td>\n",
       "    </tr>\n",
       "    <tr>\n",
       "      <th>3</th>\n",
       "      <td>1930</td>\n",
       "      <td>14 Jul 1930 - 14:50</td>\n",
       "      <td>Group 3</td>\n",
       "      <td>Pocitos</td>\n",
       "      <td>Montevideo</td>\n",
       "      <td>Romania</td>\n",
       "      <td>3</td>\n",
       "      <td>1</td>\n",
       "      <td>Peru</td>\n",
       "      <td></td>\n",
       "      <td>2549.0</td>\n",
       "      <td>1</td>\n",
       "      <td>0</td>\n",
       "      <td>WARNKEN Alberto (CHI)</td>\n",
       "      <td>LANGENUS Jean (BEL)</td>\n",
       "      <td>MATEUCCI Francisco (URU)</td>\n",
       "      <td>201</td>\n",
       "      <td>1098</td>\n",
       "      <td>ROU</td>\n",
       "      <td>PER</td>\n",
       "    </tr>\n",
       "    <tr>\n",
       "      <th>4</th>\n",
       "      <td>1930</td>\n",
       "      <td>15 Jul 1930 - 16:00</td>\n",
       "      <td>Group 1</td>\n",
       "      <td>Parque Central</td>\n",
       "      <td>Montevideo</td>\n",
       "      <td>Argentina</td>\n",
       "      <td>1</td>\n",
       "      <td>0</td>\n",
       "      <td>France</td>\n",
       "      <td></td>\n",
       "      <td>23409.0</td>\n",
       "      <td>0</td>\n",
       "      <td>0</td>\n",
       "      <td>REGO Gilberto (BRA)</td>\n",
       "      <td>SAUCEDO Ulises (BOL)</td>\n",
       "      <td>RADULESCU Constantin (ROU)</td>\n",
       "      <td>201</td>\n",
       "      <td>1085</td>\n",
       "      <td>ARG</td>\n",
       "      <td>FRA</td>\n",
       "    </tr>\n",
       "    <tr>\n",
       "      <th>...</th>\n",
       "      <td>...</td>\n",
       "      <td>...</td>\n",
       "      <td>...</td>\n",
       "      <td>...</td>\n",
       "      <td>...</td>\n",
       "      <td>...</td>\n",
       "      <td>...</td>\n",
       "      <td>...</td>\n",
       "      <td>...</td>\n",
       "      <td>...</td>\n",
       "      <td>...</td>\n",
       "      <td>...</td>\n",
       "      <td>...</td>\n",
       "      <td>...</td>\n",
       "      <td>...</td>\n",
       "      <td>...</td>\n",
       "      <td>...</td>\n",
       "      <td>...</td>\n",
       "      <td>...</td>\n",
       "      <td>...</td>\n",
       "    </tr>\n",
       "    <tr>\n",
       "      <th>847</th>\n",
       "      <td>2014</td>\n",
       "      <td>05 Jul 2014 - 17:00</td>\n",
       "      <td>Quarter-finals</td>\n",
       "      <td>Arena Fonte Nova</td>\n",
       "      <td>Salvador</td>\n",
       "      <td>Netherlands</td>\n",
       "      <td>0</td>\n",
       "      <td>0</td>\n",
       "      <td>Costa Rica</td>\n",
       "      <td>Netherlands win on penalties (4 - 3)</td>\n",
       "      <td>51179.0</td>\n",
       "      <td>0</td>\n",
       "      <td>0</td>\n",
       "      <td>Ravshan IRMATOV (UZB)</td>\n",
       "      <td>RASULOV Abduxamidullo (UZB)</td>\n",
       "      <td>KOCHKAROV Bakhadyr (KGZ)</td>\n",
       "      <td>255953</td>\n",
       "      <td>300186488</td>\n",
       "      <td>NED</td>\n",
       "      <td>CRC</td>\n",
       "    </tr>\n",
       "    <tr>\n",
       "      <th>848</th>\n",
       "      <td>2014</td>\n",
       "      <td>08 Jul 2014 - 17:00</td>\n",
       "      <td>Semi-finals</td>\n",
       "      <td>Estadio Mineirao</td>\n",
       "      <td>Belo Horizonte</td>\n",
       "      <td>Brazil</td>\n",
       "      <td>1</td>\n",
       "      <td>7</td>\n",
       "      <td>Germany</td>\n",
       "      <td></td>\n",
       "      <td>58141.0</td>\n",
       "      <td>0</td>\n",
       "      <td>5</td>\n",
       "      <td>RODRIGUEZ Marco (MEX)</td>\n",
       "      <td>TORRENTERA Marvin (MEX)</td>\n",
       "      <td>QUINTERO Marcos (MEX)</td>\n",
       "      <td>255955</td>\n",
       "      <td>300186474</td>\n",
       "      <td>BRA</td>\n",
       "      <td>GER</td>\n",
       "    </tr>\n",
       "    <tr>\n",
       "      <th>849</th>\n",
       "      <td>2014</td>\n",
       "      <td>09 Jul 2014 - 17:00</td>\n",
       "      <td>Semi-finals</td>\n",
       "      <td>Arena de Sao Paulo</td>\n",
       "      <td>Sao Paulo</td>\n",
       "      <td>Netherlands</td>\n",
       "      <td>0</td>\n",
       "      <td>0</td>\n",
       "      <td>Argentina</td>\n",
       "      <td>Argentina win on penalties (2 - 4)</td>\n",
       "      <td>63267.0</td>\n",
       "      <td>0</td>\n",
       "      <td>0</td>\n",
       "      <td>C�neyt �AKIR (TUR)</td>\n",
       "      <td>DURAN Bahattin (TUR)</td>\n",
       "      <td>ONGUN Tarik (TUR)</td>\n",
       "      <td>255955</td>\n",
       "      <td>300186490</td>\n",
       "      <td>NED</td>\n",
       "      <td>ARG</td>\n",
       "    </tr>\n",
       "    <tr>\n",
       "      <th>850</th>\n",
       "      <td>2014</td>\n",
       "      <td>12 Jul 2014 - 17:00</td>\n",
       "      <td>Play-off for third place</td>\n",
       "      <td>Estadio Nacional</td>\n",
       "      <td>Brasilia</td>\n",
       "      <td>Brazil</td>\n",
       "      <td>0</td>\n",
       "      <td>3</td>\n",
       "      <td>Netherlands</td>\n",
       "      <td></td>\n",
       "      <td>68034.0</td>\n",
       "      <td>0</td>\n",
       "      <td>2</td>\n",
       "      <td>HAIMOUDI Djamel (ALG)</td>\n",
       "      <td>ACHIK Redouane (MAR)</td>\n",
       "      <td>ETCHIALI Abdelhak (ALG)</td>\n",
       "      <td>255957</td>\n",
       "      <td>300186502</td>\n",
       "      <td>BRA</td>\n",
       "      <td>NED</td>\n",
       "    </tr>\n",
       "    <tr>\n",
       "      <th>851</th>\n",
       "      <td>2014</td>\n",
       "      <td>13 Jul 2014 - 16:00</td>\n",
       "      <td>Final</td>\n",
       "      <td>Estadio do Maracana</td>\n",
       "      <td>Rio De Janeiro</td>\n",
       "      <td>Germany</td>\n",
       "      <td>1</td>\n",
       "      <td>0</td>\n",
       "      <td>Argentina</td>\n",
       "      <td>Germany win after extra time</td>\n",
       "      <td>74738.0</td>\n",
       "      <td>0</td>\n",
       "      <td>0</td>\n",
       "      <td>Nicola RIZZOLI (ITA)</td>\n",
       "      <td>Renato FAVERANI (ITA)</td>\n",
       "      <td>Andrea STEFANI (ITA)</td>\n",
       "      <td>255959</td>\n",
       "      <td>300186501</td>\n",
       "      <td>GER</td>\n",
       "      <td>ARG</td>\n",
       "    </tr>\n",
       "  </tbody>\n",
       "</table>\n",
       "<p>852 rows × 20 columns</p>\n",
       "</div>"
      ],
      "text/plain": [
       "     Year              Datetime                     Stage  \\\n",
       "0    1930  13 Jul 1930 - 15:00                    Group 1   \n",
       "1    1930  13 Jul 1930 - 15:00                    Group 4   \n",
       "2    1930  14 Jul 1930 - 12:45                    Group 2   \n",
       "3    1930  14 Jul 1930 - 14:50                    Group 3   \n",
       "4    1930  15 Jul 1930 - 16:00                    Group 1   \n",
       "..    ...                   ...                       ...   \n",
       "847  2014  05 Jul 2014 - 17:00             Quarter-finals   \n",
       "848  2014  08 Jul 2014 - 17:00                Semi-finals   \n",
       "849  2014  09 Jul 2014 - 17:00                Semi-finals   \n",
       "850  2014  12 Jul 2014 - 17:00   Play-off for third place   \n",
       "851  2014  13 Jul 2014 - 16:00                      Final   \n",
       "\n",
       "                 Stadium             City Home Team Name  Home Team Goals  \\\n",
       "0                Pocitos      Montevideo          France                4   \n",
       "1         Parque Central      Montevideo             USA                3   \n",
       "2         Parque Central      Montevideo      Yugoslavia                2   \n",
       "3                Pocitos      Montevideo         Romania                3   \n",
       "4         Parque Central      Montevideo       Argentina                1   \n",
       "..                   ...              ...            ...              ...   \n",
       "847     Arena Fonte Nova        Salvador     Netherlands                0   \n",
       "848     Estadio Mineirao  Belo Horizonte          Brazil                1   \n",
       "849   Arena de Sao Paulo       Sao Paulo     Netherlands                0   \n",
       "850     Estadio Nacional        Brasilia          Brazil                0   \n",
       "851  Estadio do Maracana  Rio De Janeiro         Germany                1   \n",
       "\n",
       "     Away Team Goals Away Team Name                         Win conditions  \\\n",
       "0                  1         Mexico                                          \n",
       "1                  0        Belgium                                          \n",
       "2                  1         Brazil                                          \n",
       "3                  1           Peru                                          \n",
       "4                  0         France                                          \n",
       "..               ...            ...                                    ...   \n",
       "847                0     Costa Rica  Netherlands win on penalties (4 - 3)    \n",
       "848                7        Germany                                          \n",
       "849                0      Argentina    Argentina win on penalties (2 - 4)    \n",
       "850                3    Netherlands                                          \n",
       "851                0      Argentina          Germany win after extra time    \n",
       "\n",
       "     Attendance  Half-time Home Goals  Half-time Away Goals  \\\n",
       "0        4444.0                     3                     0   \n",
       "1       18346.0                     2                     0   \n",
       "2       24059.0                     2                     0   \n",
       "3        2549.0                     1                     0   \n",
       "4       23409.0                     0                     0   \n",
       "..          ...                   ...                   ...   \n",
       "847     51179.0                     0                     0   \n",
       "848     58141.0                     0                     5   \n",
       "849     63267.0                     0                     0   \n",
       "850     68034.0                     0                     2   \n",
       "851     74738.0                     0                     0   \n",
       "\n",
       "                    Referee                  Assistant 1  \\\n",
       "0    LOMBARDI Domingo (URU)        CRISTOPHE Henry (BEL)   \n",
       "1         MACIAS Jose (ARG)     MATEUCCI Francisco (URU)   \n",
       "2       TEJADA Anibal (URU)      VALLARINO Ricardo (URU)   \n",
       "3     WARNKEN Alberto (CHI)          LANGENUS Jean (BEL)   \n",
       "4       REGO Gilberto (BRA)         SAUCEDO Ulises (BOL)   \n",
       "..                      ...                          ...   \n",
       "847   Ravshan IRMATOV (UZB)  RASULOV Abduxamidullo (UZB)   \n",
       "848   RODRIGUEZ Marco (MEX)      TORRENTERA Marvin (MEX)   \n",
       "849      C�neyt �AKIR (TUR)         DURAN Bahattin (TUR)   \n",
       "850   HAIMOUDI Djamel (ALG)         ACHIK Redouane (MAR)   \n",
       "851    Nicola RIZZOLI (ITA)        Renato FAVERANI (ITA)   \n",
       "\n",
       "                    Assistant 2  RoundID    MatchID Home Team Initials  \\\n",
       "0           REGO Gilberto (BRA)      201       1096                FRA   \n",
       "1         WARNKEN Alberto (CHI)      201       1090                USA   \n",
       "2           BALWAY Thomas (FRA)      201       1093                YUG   \n",
       "3      MATEUCCI Francisco (URU)      201       1098                ROU   \n",
       "4    RADULESCU Constantin (ROU)      201       1085                ARG   \n",
       "..                          ...      ...        ...                ...   \n",
       "847    KOCHKAROV Bakhadyr (KGZ)   255953  300186488                NED   \n",
       "848       QUINTERO Marcos (MEX)   255955  300186474                BRA   \n",
       "849           ONGUN Tarik (TUR)   255955  300186490                NED   \n",
       "850     ETCHIALI Abdelhak (ALG)   255957  300186502                BRA   \n",
       "851        Andrea STEFANI (ITA)   255959  300186501                GER   \n",
       "\n",
       "    Away Team Initials  \n",
       "0                  MEX  \n",
       "1                  BEL  \n",
       "2                  BRA  \n",
       "3                  PER  \n",
       "4                  FRA  \n",
       "..                 ...  \n",
       "847                CRC  \n",
       "848                GER  \n",
       "849                ARG  \n",
       "850                NED  \n",
       "851                ARG  \n",
       "\n",
       "[852 rows x 20 columns]"
      ]
     },
     "execution_count": 425,
     "metadata": {},
     "output_type": "execute_result"
    }
   ],
   "source": [
    "# see how pandas presents the data compared to base python methods above\n",
    "\n",
    "import pandas as pd # powerful data analysis library that is especially well-suited to handling tabular data (meaning data that is represented as rows and columns). \n",
    "import numpy as np\n",
    "import matplotlib.pyplot as myplt\n",
    "\n",
    "\n",
    "# compare base python open() function and pandas read_csv() function outputs\n",
    "wc_data = pd.read_csv('WorldCupMatches.csv') # reading and accessing the axes/data in the csv file\n",
    "wc_data"
   ]
  },
  {
   "cell_type": "code",
   "execution_count": 429,
   "id": "063a5f39-217e-472f-8aae-0befcc082396",
   "metadata": {},
   "outputs": [
    {
     "data": {
      "text/html": [
       "<div>\n",
       "<style scoped>\n",
       "    .dataframe tbody tr th:only-of-type {\n",
       "        vertical-align: middle;\n",
       "    }\n",
       "\n",
       "    .dataframe tbody tr th {\n",
       "        vertical-align: top;\n",
       "    }\n",
       "\n",
       "    .dataframe thead th {\n",
       "        text-align: right;\n",
       "    }\n",
       "</style>\n",
       "<table border=\"1\" class=\"dataframe\">\n",
       "  <thead>\n",
       "    <tr style=\"text-align: right;\">\n",
       "      <th></th>\n",
       "      <th>Year</th>\n",
       "      <th>Datetime</th>\n",
       "      <th>Stage</th>\n",
       "      <th>Stadium</th>\n",
       "      <th>City</th>\n",
       "      <th>Home Team Name</th>\n",
       "      <th>Home Team Goals</th>\n",
       "      <th>Away Team Goals</th>\n",
       "      <th>Away Team Name</th>\n",
       "      <th>Win conditions</th>\n",
       "      <th>Attendance</th>\n",
       "      <th>Half-time Home Goals</th>\n",
       "      <th>Half-time Away Goals</th>\n",
       "      <th>Referee</th>\n",
       "      <th>Assistant 1</th>\n",
       "      <th>Assistant 2</th>\n",
       "      <th>RoundID</th>\n",
       "      <th>MatchID</th>\n",
       "      <th>Home Team Initials</th>\n",
       "      <th>Away Team Initials</th>\n",
       "    </tr>\n",
       "  </thead>\n",
       "  <tbody>\n",
       "    <tr>\n",
       "      <th>0</th>\n",
       "      <td>1930</td>\n",
       "      <td>13 Jul 1930 - 15:00</td>\n",
       "      <td>Group 1</td>\n",
       "      <td>Pocitos</td>\n",
       "      <td>Montevideo</td>\n",
       "      <td>France</td>\n",
       "      <td>4</td>\n",
       "      <td>1</td>\n",
       "      <td>Mexico</td>\n",
       "      <td></td>\n",
       "      <td>4444.0</td>\n",
       "      <td>3</td>\n",
       "      <td>0</td>\n",
       "      <td>LOMBARDI Domingo (URU)</td>\n",
       "      <td>CRISTOPHE Henry (BEL)</td>\n",
       "      <td>REGO Gilberto (BRA)</td>\n",
       "      <td>201</td>\n",
       "      <td>1096</td>\n",
       "      <td>FRA</td>\n",
       "      <td>MEX</td>\n",
       "    </tr>\n",
       "    <tr>\n",
       "      <th>1</th>\n",
       "      <td>1930</td>\n",
       "      <td>13 Jul 1930 - 15:00</td>\n",
       "      <td>Group 4</td>\n",
       "      <td>Parque Central</td>\n",
       "      <td>Montevideo</td>\n",
       "      <td>USA</td>\n",
       "      <td>3</td>\n",
       "      <td>0</td>\n",
       "      <td>Belgium</td>\n",
       "      <td></td>\n",
       "      <td>18346.0</td>\n",
       "      <td>2</td>\n",
       "      <td>0</td>\n",
       "      <td>MACIAS Jose (ARG)</td>\n",
       "      <td>MATEUCCI Francisco (URU)</td>\n",
       "      <td>WARNKEN Alberto (CHI)</td>\n",
       "      <td>201</td>\n",
       "      <td>1090</td>\n",
       "      <td>USA</td>\n",
       "      <td>BEL</td>\n",
       "    </tr>\n",
       "    <tr>\n",
       "      <th>2</th>\n",
       "      <td>1930</td>\n",
       "      <td>14 Jul 1930 - 12:45</td>\n",
       "      <td>Group 2</td>\n",
       "      <td>Parque Central</td>\n",
       "      <td>Montevideo</td>\n",
       "      <td>Yugoslavia</td>\n",
       "      <td>2</td>\n",
       "      <td>1</td>\n",
       "      <td>Brazil</td>\n",
       "      <td></td>\n",
       "      <td>24059.0</td>\n",
       "      <td>2</td>\n",
       "      <td>0</td>\n",
       "      <td>TEJADA Anibal (URU)</td>\n",
       "      <td>VALLARINO Ricardo (URU)</td>\n",
       "      <td>BALWAY Thomas (FRA)</td>\n",
       "      <td>201</td>\n",
       "      <td>1093</td>\n",
       "      <td>YUG</td>\n",
       "      <td>BRA</td>\n",
       "    </tr>\n",
       "    <tr>\n",
       "      <th>3</th>\n",
       "      <td>1930</td>\n",
       "      <td>14 Jul 1930 - 14:50</td>\n",
       "      <td>Group 3</td>\n",
       "      <td>Pocitos</td>\n",
       "      <td>Montevideo</td>\n",
       "      <td>Romania</td>\n",
       "      <td>3</td>\n",
       "      <td>1</td>\n",
       "      <td>Peru</td>\n",
       "      <td></td>\n",
       "      <td>2549.0</td>\n",
       "      <td>1</td>\n",
       "      <td>0</td>\n",
       "      <td>WARNKEN Alberto (CHI)</td>\n",
       "      <td>LANGENUS Jean (BEL)</td>\n",
       "      <td>MATEUCCI Francisco (URU)</td>\n",
       "      <td>201</td>\n",
       "      <td>1098</td>\n",
       "      <td>ROU</td>\n",
       "      <td>PER</td>\n",
       "    </tr>\n",
       "    <tr>\n",
       "      <th>4</th>\n",
       "      <td>1930</td>\n",
       "      <td>15 Jul 1930 - 16:00</td>\n",
       "      <td>Group 1</td>\n",
       "      <td>Parque Central</td>\n",
       "      <td>Montevideo</td>\n",
       "      <td>Argentina</td>\n",
       "      <td>1</td>\n",
       "      <td>0</td>\n",
       "      <td>France</td>\n",
       "      <td></td>\n",
       "      <td>23409.0</td>\n",
       "      <td>0</td>\n",
       "      <td>0</td>\n",
       "      <td>REGO Gilberto (BRA)</td>\n",
       "      <td>SAUCEDO Ulises (BOL)</td>\n",
       "      <td>RADULESCU Constantin (ROU)</td>\n",
       "      <td>201</td>\n",
       "      <td>1085</td>\n",
       "      <td>ARG</td>\n",
       "      <td>FRA</td>\n",
       "    </tr>\n",
       "    <tr>\n",
       "      <th>5</th>\n",
       "      <td>1930</td>\n",
       "      <td>16 Jul 1930 - 14:45</td>\n",
       "      <td>Group 1</td>\n",
       "      <td>Parque Central</td>\n",
       "      <td>Montevideo</td>\n",
       "      <td>Chile</td>\n",
       "      <td>3</td>\n",
       "      <td>0</td>\n",
       "      <td>Mexico</td>\n",
       "      <td></td>\n",
       "      <td>9249.0</td>\n",
       "      <td>1</td>\n",
       "      <td>0</td>\n",
       "      <td>CRISTOPHE Henry (BEL)</td>\n",
       "      <td>APHESTEGUY Martin (URU)</td>\n",
       "      <td>LANGENUS Jean (BEL)</td>\n",
       "      <td>201</td>\n",
       "      <td>1095</td>\n",
       "      <td>CHI</td>\n",
       "      <td>MEX</td>\n",
       "    </tr>\n",
       "  </tbody>\n",
       "</table>\n",
       "</div>"
      ],
      "text/plain": [
       "   Year              Datetime    Stage         Stadium         City  \\\n",
       "0  1930  13 Jul 1930 - 15:00   Group 1         Pocitos  Montevideo    \n",
       "1  1930  13 Jul 1930 - 15:00   Group 4  Parque Central  Montevideo    \n",
       "2  1930  14 Jul 1930 - 12:45   Group 2  Parque Central  Montevideo    \n",
       "3  1930  14 Jul 1930 - 14:50   Group 3         Pocitos  Montevideo    \n",
       "4  1930  15 Jul 1930 - 16:00   Group 1  Parque Central  Montevideo    \n",
       "5  1930  16 Jul 1930 - 14:45   Group 1  Parque Central  Montevideo    \n",
       "\n",
       "  Home Team Name  Home Team Goals  Away Team Goals Away Team Name  \\\n",
       "0         France                4                1         Mexico   \n",
       "1            USA                3                0        Belgium   \n",
       "2     Yugoslavia                2                1         Brazil   \n",
       "3        Romania                3                1           Peru   \n",
       "4      Argentina                1                0         France   \n",
       "5          Chile                3                0         Mexico   \n",
       "\n",
       "  Win conditions  Attendance  Half-time Home Goals  Half-time Away Goals  \\\n",
       "0                     4444.0                     3                     0   \n",
       "1                    18346.0                     2                     0   \n",
       "2                    24059.0                     2                     0   \n",
       "3                     2549.0                     1                     0   \n",
       "4                    23409.0                     0                     0   \n",
       "5                     9249.0                     1                     0   \n",
       "\n",
       "                  Referee               Assistant 1  \\\n",
       "0  LOMBARDI Domingo (URU)     CRISTOPHE Henry (BEL)   \n",
       "1       MACIAS Jose (ARG)  MATEUCCI Francisco (URU)   \n",
       "2     TEJADA Anibal (URU)   VALLARINO Ricardo (URU)   \n",
       "3   WARNKEN Alberto (CHI)       LANGENUS Jean (BEL)   \n",
       "4     REGO Gilberto (BRA)      SAUCEDO Ulises (BOL)   \n",
       "5   CRISTOPHE Henry (BEL)   APHESTEGUY Martin (URU)   \n",
       "\n",
       "                  Assistant 2  RoundID  MatchID Home Team Initials  \\\n",
       "0         REGO Gilberto (BRA)      201     1096                FRA   \n",
       "1       WARNKEN Alberto (CHI)      201     1090                USA   \n",
       "2         BALWAY Thomas (FRA)      201     1093                YUG   \n",
       "3    MATEUCCI Francisco (URU)      201     1098                ROU   \n",
       "4  RADULESCU Constantin (ROU)      201     1085                ARG   \n",
       "5         LANGENUS Jean (BEL)      201     1095                CHI   \n",
       "\n",
       "  Away Team Initials  \n",
       "0                MEX  \n",
       "1                BEL  \n",
       "2                BRA  \n",
       "3                PER  \n",
       "4                FRA  \n",
       "5                MEX  "
      ]
     },
     "execution_count": 429,
     "metadata": {},
     "output_type": "execute_result"
    }
   ],
   "source": [
    "wc_data.head(6)"
   ]
  },
  {
   "cell_type": "code",
   "execution_count": 427,
   "id": "5ceefe35-b7d6-4bb6-b4b0-2bef800ef539",
   "metadata": {},
   "outputs": [
    {
     "data": {
      "text/plain": [
       "pandas.core.frame.DataFrame"
      ]
     },
     "execution_count": 427,
     "metadata": {},
     "output_type": "execute_result"
    }
   ],
   "source": [
    "type(wc_data)\n",
    "# A dataframe represents tabular data with an integrated index, so data can be selected an manipulated using rows or columns"
   ]
  },
  {
   "cell_type": "code",
   "execution_count": 363,
   "id": "2b96f32a-0e99-473c-9875-c42b480249ee",
   "metadata": {},
   "outputs": [
    {
     "data": {
      "text/plain": [
       "(852, 20)"
      ]
     },
     "execution_count": 363,
     "metadata": {},
     "output_type": "execute_result"
    }
   ],
   "source": [
    "wc_data.shape"
   ]
  },
  {
   "cell_type": "code",
   "execution_count": 317,
   "id": "3bc65080-b898-4b2f-a667-47de6b3ab42c",
   "metadata": {},
   "outputs": [
    {
     "data": {
      "text/plain": [
       "2"
      ]
     },
     "execution_count": 317,
     "metadata": {},
     "output_type": "execute_result"
    }
   ],
   "source": [
    "wc_data.ndim # to see how many dimensions the data has. it only has rows and columns"
   ]
  },
  {
   "cell_type": "code",
   "execution_count": 335,
   "id": "0eaa960e-c0ac-409d-8186-6d5ab1ede9fe",
   "metadata": {},
   "outputs": [
    {
     "data": {
      "text/plain": [
       "Index(['Year', 'Datetime', 'Stage', 'Stadium', 'City', 'Home Team Name',\n",
       "       'Home Team Goals', 'Away Team Goals', 'Away Team Name',\n",
       "       'Win conditions', 'Attendance', 'Half-time Home Goals',\n",
       "       'Half-time Away Goals', 'Referee', 'Assistant 1', 'Assistant 2',\n",
       "       'RoundID', 'MatchID', 'Home Team Initials', 'Away Team Initials'],\n",
       "      dtype='object')"
      ]
     },
     "execution_count": 335,
     "metadata": {},
     "output_type": "execute_result"
    }
   ],
   "source": [
    "wc_data.columns"
   ]
  },
  {
   "cell_type": "code",
   "execution_count": 347,
   "id": "716c5aaf-c452-4278-a8e1-765b05aa835c",
   "metadata": {},
   "outputs": [
    {
     "data": {
      "text/html": [
       "<div>\n",
       "<style scoped>\n",
       "    .dataframe tbody tr th:only-of-type {\n",
       "        vertical-align: middle;\n",
       "    }\n",
       "\n",
       "    .dataframe tbody tr th {\n",
       "        vertical-align: top;\n",
       "    }\n",
       "\n",
       "    .dataframe thead th {\n",
       "        text-align: right;\n",
       "    }\n",
       "</style>\n",
       "<table border=\"1\" class=\"dataframe\">\n",
       "  <thead>\n",
       "    <tr style=\"text-align: right;\">\n",
       "      <th></th>\n",
       "      <th>Year</th>\n",
       "      <th>Datetime</th>\n",
       "      <th>Stage</th>\n",
       "      <th>Stadium</th>\n",
       "      <th>City</th>\n",
       "      <th>Home Team Name</th>\n",
       "      <th>Home Team Goals</th>\n",
       "      <th>Away Team Goals</th>\n",
       "      <th>Away Team Name</th>\n",
       "      <th>Win conditions</th>\n",
       "      <th>Attendance</th>\n",
       "      <th>Half-time Home Goals</th>\n",
       "      <th>Half-time Away Goals</th>\n",
       "      <th>Referee</th>\n",
       "      <th>Assistant 1</th>\n",
       "      <th>Assistant 2</th>\n",
       "      <th>RoundID</th>\n",
       "      <th>MatchID</th>\n",
       "      <th>Home Team Initials</th>\n",
       "      <th>Away Team Initials</th>\n",
       "    </tr>\n",
       "  </thead>\n",
       "  <tbody>\n",
       "    <tr>\n",
       "      <th>847</th>\n",
       "      <td>2014</td>\n",
       "      <td>05 Jul 2014 - 17:00</td>\n",
       "      <td>Quarter-finals</td>\n",
       "      <td>Arena Fonte Nova</td>\n",
       "      <td>Salvador</td>\n",
       "      <td>Netherlands</td>\n",
       "      <td>0</td>\n",
       "      <td>0</td>\n",
       "      <td>Costa Rica</td>\n",
       "      <td>Netherlands win on penalties (4 - 3)</td>\n",
       "      <td>51179.0</td>\n",
       "      <td>0</td>\n",
       "      <td>0</td>\n",
       "      <td>Ravshan IRMATOV (UZB)</td>\n",
       "      <td>RASULOV Abduxamidullo (UZB)</td>\n",
       "      <td>KOCHKAROV Bakhadyr (KGZ)</td>\n",
       "      <td>255953</td>\n",
       "      <td>300186488</td>\n",
       "      <td>NED</td>\n",
       "      <td>CRC</td>\n",
       "    </tr>\n",
       "    <tr>\n",
       "      <th>848</th>\n",
       "      <td>2014</td>\n",
       "      <td>08 Jul 2014 - 17:00</td>\n",
       "      <td>Semi-finals</td>\n",
       "      <td>Estadio Mineirao</td>\n",
       "      <td>Belo Horizonte</td>\n",
       "      <td>Brazil</td>\n",
       "      <td>1</td>\n",
       "      <td>7</td>\n",
       "      <td>Germany</td>\n",
       "      <td></td>\n",
       "      <td>58141.0</td>\n",
       "      <td>0</td>\n",
       "      <td>5</td>\n",
       "      <td>RODRIGUEZ Marco (MEX)</td>\n",
       "      <td>TORRENTERA Marvin (MEX)</td>\n",
       "      <td>QUINTERO Marcos (MEX)</td>\n",
       "      <td>255955</td>\n",
       "      <td>300186474</td>\n",
       "      <td>BRA</td>\n",
       "      <td>GER</td>\n",
       "    </tr>\n",
       "    <tr>\n",
       "      <th>849</th>\n",
       "      <td>2014</td>\n",
       "      <td>09 Jul 2014 - 17:00</td>\n",
       "      <td>Semi-finals</td>\n",
       "      <td>Arena de Sao Paulo</td>\n",
       "      <td>Sao Paulo</td>\n",
       "      <td>Netherlands</td>\n",
       "      <td>0</td>\n",
       "      <td>0</td>\n",
       "      <td>Argentina</td>\n",
       "      <td>Argentina win on penalties (2 - 4)</td>\n",
       "      <td>63267.0</td>\n",
       "      <td>0</td>\n",
       "      <td>0</td>\n",
       "      <td>C�neyt �AKIR (TUR)</td>\n",
       "      <td>DURAN Bahattin (TUR)</td>\n",
       "      <td>ONGUN Tarik (TUR)</td>\n",
       "      <td>255955</td>\n",
       "      <td>300186490</td>\n",
       "      <td>NED</td>\n",
       "      <td>ARG</td>\n",
       "    </tr>\n",
       "    <tr>\n",
       "      <th>850</th>\n",
       "      <td>2014</td>\n",
       "      <td>12 Jul 2014 - 17:00</td>\n",
       "      <td>Play-off for third place</td>\n",
       "      <td>Estadio Nacional</td>\n",
       "      <td>Brasilia</td>\n",
       "      <td>Brazil</td>\n",
       "      <td>0</td>\n",
       "      <td>3</td>\n",
       "      <td>Netherlands</td>\n",
       "      <td></td>\n",
       "      <td>68034.0</td>\n",
       "      <td>0</td>\n",
       "      <td>2</td>\n",
       "      <td>HAIMOUDI Djamel (ALG)</td>\n",
       "      <td>ACHIK Redouane (MAR)</td>\n",
       "      <td>ETCHIALI Abdelhak (ALG)</td>\n",
       "      <td>255957</td>\n",
       "      <td>300186502</td>\n",
       "      <td>BRA</td>\n",
       "      <td>NED</td>\n",
       "    </tr>\n",
       "    <tr>\n",
       "      <th>851</th>\n",
       "      <td>2014</td>\n",
       "      <td>13 Jul 2014 - 16:00</td>\n",
       "      <td>Final</td>\n",
       "      <td>Estadio do Maracana</td>\n",
       "      <td>Rio De Janeiro</td>\n",
       "      <td>Germany</td>\n",
       "      <td>1</td>\n",
       "      <td>0</td>\n",
       "      <td>Argentina</td>\n",
       "      <td>Germany win after extra time</td>\n",
       "      <td>74738.0</td>\n",
       "      <td>0</td>\n",
       "      <td>0</td>\n",
       "      <td>Nicola RIZZOLI (ITA)</td>\n",
       "      <td>Renato FAVERANI (ITA)</td>\n",
       "      <td>Andrea STEFANI (ITA)</td>\n",
       "      <td>255959</td>\n",
       "      <td>300186501</td>\n",
       "      <td>GER</td>\n",
       "      <td>ARG</td>\n",
       "    </tr>\n",
       "  </tbody>\n",
       "</table>\n",
       "</div>"
      ],
      "text/plain": [
       "     Year              Datetime                     Stage  \\\n",
       "847  2014  05 Jul 2014 - 17:00             Quarter-finals   \n",
       "848  2014  08 Jul 2014 - 17:00                Semi-finals   \n",
       "849  2014  09 Jul 2014 - 17:00                Semi-finals   \n",
       "850  2014  12 Jul 2014 - 17:00   Play-off for third place   \n",
       "851  2014  13 Jul 2014 - 16:00                      Final   \n",
       "\n",
       "                 Stadium             City Home Team Name  Home Team Goals  \\\n",
       "847     Arena Fonte Nova        Salvador     Netherlands                0   \n",
       "848     Estadio Mineirao  Belo Horizonte          Brazil                1   \n",
       "849   Arena de Sao Paulo       Sao Paulo     Netherlands                0   \n",
       "850     Estadio Nacional        Brasilia          Brazil                0   \n",
       "851  Estadio do Maracana  Rio De Janeiro         Germany                1   \n",
       "\n",
       "     Away Team Goals Away Team Name                         Win conditions  \\\n",
       "847                0     Costa Rica  Netherlands win on penalties (4 - 3)    \n",
       "848                7        Germany                                          \n",
       "849                0      Argentina    Argentina win on penalties (2 - 4)    \n",
       "850                3    Netherlands                                          \n",
       "851                0      Argentina          Germany win after extra time    \n",
       "\n",
       "     Attendance  Half-time Home Goals  Half-time Away Goals  \\\n",
       "847     51179.0                     0                     0   \n",
       "848     58141.0                     0                     5   \n",
       "849     63267.0                     0                     0   \n",
       "850     68034.0                     0                     2   \n",
       "851     74738.0                     0                     0   \n",
       "\n",
       "                   Referee                  Assistant 1  \\\n",
       "847  Ravshan IRMATOV (UZB)  RASULOV Abduxamidullo (UZB)   \n",
       "848  RODRIGUEZ Marco (MEX)      TORRENTERA Marvin (MEX)   \n",
       "849     C�neyt �AKIR (TUR)         DURAN Bahattin (TUR)   \n",
       "850  HAIMOUDI Djamel (ALG)         ACHIK Redouane (MAR)   \n",
       "851   Nicola RIZZOLI (ITA)        Renato FAVERANI (ITA)   \n",
       "\n",
       "                  Assistant 2  RoundID    MatchID Home Team Initials  \\\n",
       "847  KOCHKAROV Bakhadyr (KGZ)   255953  300186488                NED   \n",
       "848     QUINTERO Marcos (MEX)   255955  300186474                BRA   \n",
       "849         ONGUN Tarik (TUR)   255955  300186490                NED   \n",
       "850   ETCHIALI Abdelhak (ALG)   255957  300186502                BRA   \n",
       "851      Andrea STEFANI (ITA)   255959  300186501                GER   \n",
       "\n",
       "    Away Team Initials  \n",
       "847                CRC  \n",
       "848                GER  \n",
       "849                ARG  \n",
       "850                NED  \n",
       "851                ARG  "
      ]
     },
     "execution_count": 347,
     "metadata": {},
     "output_type": "execute_result"
    }
   ],
   "source": [
    "# view the last 5 columns. by default is 5 but you can view any number eg wc_data.tail(4)\n",
    "wc_data.tail()"
   ]
  },
  {
   "cell_type": "code",
   "execution_count": 351,
   "id": "24da7193-1b3d-4632-9aed-c93d09b444cd",
   "metadata": {},
   "outputs": [
    {
     "data": {
      "text/html": [
       "<div>\n",
       "<style scoped>\n",
       "    .dataframe tbody tr th:only-of-type {\n",
       "        vertical-align: middle;\n",
       "    }\n",
       "\n",
       "    .dataframe tbody tr th {\n",
       "        vertical-align: top;\n",
       "    }\n",
       "\n",
       "    .dataframe thead th {\n",
       "        text-align: right;\n",
       "    }\n",
       "</style>\n",
       "<table border=\"1\" class=\"dataframe\">\n",
       "  <thead>\n",
       "    <tr style=\"text-align: right;\">\n",
       "      <th></th>\n",
       "      <th>Year</th>\n",
       "      <th>Datetime</th>\n",
       "      <th>Stage</th>\n",
       "      <th>Stadium</th>\n",
       "      <th>City</th>\n",
       "      <th>Home Team Name</th>\n",
       "      <th>Home Team Goals</th>\n",
       "      <th>Away Team Goals</th>\n",
       "      <th>Away Team Name</th>\n",
       "      <th>Win conditions</th>\n",
       "      <th>Attendance</th>\n",
       "      <th>Half-time Home Goals</th>\n",
       "      <th>Half-time Away Goals</th>\n",
       "      <th>Referee</th>\n",
       "      <th>Assistant 1</th>\n",
       "      <th>Assistant 2</th>\n",
       "      <th>RoundID</th>\n",
       "      <th>MatchID</th>\n",
       "      <th>Home Team Initials</th>\n",
       "      <th>Away Team Initials</th>\n",
       "    </tr>\n",
       "  </thead>\n",
       "  <tbody>\n",
       "    <tr>\n",
       "      <th>0</th>\n",
       "      <td>1930</td>\n",
       "      <td>13 Jul 1930 - 15:00</td>\n",
       "      <td>Group 1</td>\n",
       "      <td>Pocitos</td>\n",
       "      <td>Montevideo</td>\n",
       "      <td>France</td>\n",
       "      <td>4</td>\n",
       "      <td>1</td>\n",
       "      <td>Mexico</td>\n",
       "      <td></td>\n",
       "      <td>4444.0</td>\n",
       "      <td>3</td>\n",
       "      <td>0</td>\n",
       "      <td>LOMBARDI Domingo (URU)</td>\n",
       "      <td>CRISTOPHE Henry (BEL)</td>\n",
       "      <td>REGO Gilberto (BRA)</td>\n",
       "      <td>201</td>\n",
       "      <td>1096</td>\n",
       "      <td>FRA</td>\n",
       "      <td>MEX</td>\n",
       "    </tr>\n",
       "    <tr>\n",
       "      <th>1</th>\n",
       "      <td>1930</td>\n",
       "      <td>13 Jul 1930 - 15:00</td>\n",
       "      <td>Group 4</td>\n",
       "      <td>Parque Central</td>\n",
       "      <td>Montevideo</td>\n",
       "      <td>USA</td>\n",
       "      <td>3</td>\n",
       "      <td>0</td>\n",
       "      <td>Belgium</td>\n",
       "      <td></td>\n",
       "      <td>18346.0</td>\n",
       "      <td>2</td>\n",
       "      <td>0</td>\n",
       "      <td>MACIAS Jose (ARG)</td>\n",
       "      <td>MATEUCCI Francisco (URU)</td>\n",
       "      <td>WARNKEN Alberto (CHI)</td>\n",
       "      <td>201</td>\n",
       "      <td>1090</td>\n",
       "      <td>USA</td>\n",
       "      <td>BEL</td>\n",
       "    </tr>\n",
       "    <tr>\n",
       "      <th>2</th>\n",
       "      <td>1930</td>\n",
       "      <td>14 Jul 1930 - 12:45</td>\n",
       "      <td>Group 2</td>\n",
       "      <td>Parque Central</td>\n",
       "      <td>Montevideo</td>\n",
       "      <td>Yugoslavia</td>\n",
       "      <td>2</td>\n",
       "      <td>1</td>\n",
       "      <td>Brazil</td>\n",
       "      <td></td>\n",
       "      <td>24059.0</td>\n",
       "      <td>2</td>\n",
       "      <td>0</td>\n",
       "      <td>TEJADA Anibal (URU)</td>\n",
       "      <td>VALLARINO Ricardo (URU)</td>\n",
       "      <td>BALWAY Thomas (FRA)</td>\n",
       "      <td>201</td>\n",
       "      <td>1093</td>\n",
       "      <td>YUG</td>\n",
       "      <td>BRA</td>\n",
       "    </tr>\n",
       "    <tr>\n",
       "      <th>3</th>\n",
       "      <td>1930</td>\n",
       "      <td>14 Jul 1930 - 14:50</td>\n",
       "      <td>Group 3</td>\n",
       "      <td>Pocitos</td>\n",
       "      <td>Montevideo</td>\n",
       "      <td>Romania</td>\n",
       "      <td>3</td>\n",
       "      <td>1</td>\n",
       "      <td>Peru</td>\n",
       "      <td></td>\n",
       "      <td>2549.0</td>\n",
       "      <td>1</td>\n",
       "      <td>0</td>\n",
       "      <td>WARNKEN Alberto (CHI)</td>\n",
       "      <td>LANGENUS Jean (BEL)</td>\n",
       "      <td>MATEUCCI Francisco (URU)</td>\n",
       "      <td>201</td>\n",
       "      <td>1098</td>\n",
       "      <td>ROU</td>\n",
       "      <td>PER</td>\n",
       "    </tr>\n",
       "    <tr>\n",
       "      <th>4</th>\n",
       "      <td>1930</td>\n",
       "      <td>15 Jul 1930 - 16:00</td>\n",
       "      <td>Group 1</td>\n",
       "      <td>Parque Central</td>\n",
       "      <td>Montevideo</td>\n",
       "      <td>Argentina</td>\n",
       "      <td>1</td>\n",
       "      <td>0</td>\n",
       "      <td>France</td>\n",
       "      <td></td>\n",
       "      <td>23409.0</td>\n",
       "      <td>0</td>\n",
       "      <td>0</td>\n",
       "      <td>REGO Gilberto (BRA)</td>\n",
       "      <td>SAUCEDO Ulises (BOL)</td>\n",
       "      <td>RADULESCU Constantin (ROU)</td>\n",
       "      <td>201</td>\n",
       "      <td>1085</td>\n",
       "      <td>ARG</td>\n",
       "      <td>FRA</td>\n",
       "    </tr>\n",
       "  </tbody>\n",
       "</table>\n",
       "</div>"
      ],
      "text/plain": [
       "   Year              Datetime    Stage         Stadium         City  \\\n",
       "0  1930  13 Jul 1930 - 15:00   Group 1         Pocitos  Montevideo    \n",
       "1  1930  13 Jul 1930 - 15:00   Group 4  Parque Central  Montevideo    \n",
       "2  1930  14 Jul 1930 - 12:45   Group 2  Parque Central  Montevideo    \n",
       "3  1930  14 Jul 1930 - 14:50   Group 3         Pocitos  Montevideo    \n",
       "4  1930  15 Jul 1930 - 16:00   Group 1  Parque Central  Montevideo    \n",
       "\n",
       "  Home Team Name  Home Team Goals  Away Team Goals Away Team Name  \\\n",
       "0         France                4                1         Mexico   \n",
       "1            USA                3                0        Belgium   \n",
       "2     Yugoslavia                2                1         Brazil   \n",
       "3        Romania                3                1           Peru   \n",
       "4      Argentina                1                0         France   \n",
       "\n",
       "  Win conditions  Attendance  Half-time Home Goals  Half-time Away Goals  \\\n",
       "0                     4444.0                     3                     0   \n",
       "1                    18346.0                     2                     0   \n",
       "2                    24059.0                     2                     0   \n",
       "3                     2549.0                     1                     0   \n",
       "4                    23409.0                     0                     0   \n",
       "\n",
       "                  Referee               Assistant 1  \\\n",
       "0  LOMBARDI Domingo (URU)     CRISTOPHE Henry (BEL)   \n",
       "1       MACIAS Jose (ARG)  MATEUCCI Francisco (URU)   \n",
       "2     TEJADA Anibal (URU)   VALLARINO Ricardo (URU)   \n",
       "3   WARNKEN Alberto (CHI)       LANGENUS Jean (BEL)   \n",
       "4     REGO Gilberto (BRA)      SAUCEDO Ulises (BOL)   \n",
       "\n",
       "                  Assistant 2  RoundID  MatchID Home Team Initials  \\\n",
       "0         REGO Gilberto (BRA)      201     1096                FRA   \n",
       "1       WARNKEN Alberto (CHI)      201     1090                USA   \n",
       "2         BALWAY Thomas (FRA)      201     1093                YUG   \n",
       "3    MATEUCCI Francisco (URU)      201     1098                ROU   \n",
       "4  RADULESCU Constantin (ROU)      201     1085                ARG   \n",
       "\n",
       "  Away Team Initials  \n",
       "0                MEX  \n",
       "1                BEL  \n",
       "2                BRA  \n",
       "3                PER  \n",
       "4                FRA  "
      ]
     },
     "execution_count": 351,
     "metadata": {},
     "output_type": "execute_result"
    }
   ],
   "source": [
    "# view the last 5 columns. by default is 5 but you can view any number eg wc_data.head(10)\n",
    "wc_data.head()"
   ]
  },
  {
   "cell_type": "code",
   "execution_count": 353,
   "id": "89a6da8b-3e45-450c-be68-4bcb5561368b",
   "metadata": {},
   "outputs": [
    {
     "name": "stdout",
     "output_type": "stream",
     "text": [
      "<class 'pandas.core.frame.DataFrame'>\n",
      "RangeIndex: 852 entries, 0 to 851\n",
      "Data columns (total 20 columns):\n",
      " #   Column                Non-Null Count  Dtype  \n",
      "---  ------                --------------  -----  \n",
      " 0   Year                  852 non-null    int64  \n",
      " 1   Datetime              852 non-null    object \n",
      " 2   Stage                 852 non-null    object \n",
      " 3   Stadium               852 non-null    object \n",
      " 4   City                  852 non-null    object \n",
      " 5   Home Team Name        852 non-null    object \n",
      " 6   Home Team Goals       852 non-null    int64  \n",
      " 7   Away Team Goals       852 non-null    int64  \n",
      " 8   Away Team Name        852 non-null    object \n",
      " 9   Win conditions        852 non-null    object \n",
      " 10  Attendance            850 non-null    float64\n",
      " 11  Half-time Home Goals  852 non-null    int64  \n",
      " 12  Half-time Away Goals  852 non-null    int64  \n",
      " 13  Referee               852 non-null    object \n",
      " 14  Assistant 1           852 non-null    object \n",
      " 15  Assistant 2           852 non-null    object \n",
      " 16  RoundID               852 non-null    int64  \n",
      " 17  MatchID               852 non-null    int64  \n",
      " 18  Home Team Initials    852 non-null    object \n",
      " 19  Away Team Initials    852 non-null    object \n",
      "dtypes: float64(1), int64(7), object(12)\n",
      "memory usage: 133.3+ KB\n"
     ]
    }
   ],
   "source": [
    "wc_data.info()"
   ]
  },
  {
   "cell_type": "code",
   "execution_count": 439,
   "id": "33205ea7-dea0-483d-af19-9b9a7f34c285",
   "metadata": {},
   "outputs": [
    {
     "data": {
      "text/html": [
       "<div>\n",
       "<style scoped>\n",
       "    .dataframe tbody tr th:only-of-type {\n",
       "        vertical-align: middle;\n",
       "    }\n",
       "\n",
       "    .dataframe tbody tr th {\n",
       "        vertical-align: top;\n",
       "    }\n",
       "\n",
       "    .dataframe thead th {\n",
       "        text-align: right;\n",
       "    }\n",
       "</style>\n",
       "<table border=\"1\" class=\"dataframe\">\n",
       "  <thead>\n",
       "    <tr style=\"text-align: right;\">\n",
       "      <th></th>\n",
       "      <th>Year</th>\n",
       "      <th>Datetime</th>\n",
       "      <th>Stage</th>\n",
       "      <th>Stadium</th>\n",
       "      <th>City</th>\n",
       "      <th>Home Team Name</th>\n",
       "      <th>Home Team Goals</th>\n",
       "      <th>Away Team Goals</th>\n",
       "      <th>Away Team Name</th>\n",
       "      <th>Win conditions</th>\n",
       "      <th>Attendance</th>\n",
       "      <th>Half-time Home Goals</th>\n",
       "      <th>Half-time Away Goals</th>\n",
       "      <th>Referee</th>\n",
       "      <th>Assistant 1</th>\n",
       "      <th>Assistant 2</th>\n",
       "      <th>RoundID</th>\n",
       "      <th>MatchID</th>\n",
       "      <th>Home Team Initials</th>\n",
       "      <th>Away Team Initials</th>\n",
       "    </tr>\n",
       "  </thead>\n",
       "  <tbody>\n",
       "    <tr>\n",
       "      <th>0</th>\n",
       "      <td>1930</td>\n",
       "      <td>13 Jul 1930 - 15:00</td>\n",
       "      <td>Group 1</td>\n",
       "      <td>Pocitos</td>\n",
       "      <td>Montevideo</td>\n",
       "      <td>France</td>\n",
       "      <td>4</td>\n",
       "      <td>1</td>\n",
       "      <td>Mexico</td>\n",
       "      <td></td>\n",
       "      <td>4444.0</td>\n",
       "      <td>3</td>\n",
       "      <td>0</td>\n",
       "      <td>LOMBARDI Domingo (URU)</td>\n",
       "      <td>CRISTOPHE Henry (BEL)</td>\n",
       "      <td>REGO Gilberto (BRA)</td>\n",
       "      <td>201</td>\n",
       "      <td>1096</td>\n",
       "      <td>FRA</td>\n",
       "      <td>MEX</td>\n",
       "    </tr>\n",
       "    <tr>\n",
       "      <th>1</th>\n",
       "      <td>1930</td>\n",
       "      <td>13 Jul 1930 - 15:00</td>\n",
       "      <td>Group 4</td>\n",
       "      <td>Parque Central</td>\n",
       "      <td>Montevideo</td>\n",
       "      <td>USA</td>\n",
       "      <td>3</td>\n",
       "      <td>0</td>\n",
       "      <td>Belgium</td>\n",
       "      <td></td>\n",
       "      <td>18346.0</td>\n",
       "      <td>2</td>\n",
       "      <td>0</td>\n",
       "      <td>MACIAS Jose (ARG)</td>\n",
       "      <td>MATEUCCI Francisco (URU)</td>\n",
       "      <td>WARNKEN Alberto (CHI)</td>\n",
       "      <td>201</td>\n",
       "      <td>1090</td>\n",
       "      <td>USA</td>\n",
       "      <td>BEL</td>\n",
       "    </tr>\n",
       "    <tr>\n",
       "      <th>2</th>\n",
       "      <td>1930</td>\n",
       "      <td>14 Jul 1930 - 12:45</td>\n",
       "      <td>Group 2</td>\n",
       "      <td>Parque Central</td>\n",
       "      <td>Montevideo</td>\n",
       "      <td>Yugoslavia</td>\n",
       "      <td>2</td>\n",
       "      <td>1</td>\n",
       "      <td>Brazil</td>\n",
       "      <td></td>\n",
       "      <td>24059.0</td>\n",
       "      <td>2</td>\n",
       "      <td>0</td>\n",
       "      <td>TEJADA Anibal (URU)</td>\n",
       "      <td>VALLARINO Ricardo (URU)</td>\n",
       "      <td>BALWAY Thomas (FRA)</td>\n",
       "      <td>201</td>\n",
       "      <td>1093</td>\n",
       "      <td>YUG</td>\n",
       "      <td>BRA</td>\n",
       "    </tr>\n",
       "  </tbody>\n",
       "</table>\n",
       "</div>"
      ],
      "text/plain": [
       "   Year              Datetime    Stage         Stadium         City  \\\n",
       "0  1930  13 Jul 1930 - 15:00   Group 1         Pocitos  Montevideo    \n",
       "1  1930  13 Jul 1930 - 15:00   Group 4  Parque Central  Montevideo    \n",
       "2  1930  14 Jul 1930 - 12:45   Group 2  Parque Central  Montevideo    \n",
       "\n",
       "  Home Team Name  Home Team Goals  Away Team Goals Away Team Name  \\\n",
       "0         France                4                1         Mexico   \n",
       "1            USA                3                0        Belgium   \n",
       "2     Yugoslavia                2                1         Brazil   \n",
       "\n",
       "  Win conditions  Attendance  Half-time Home Goals  Half-time Away Goals  \\\n",
       "0                     4444.0                     3                     0   \n",
       "1                    18346.0                     2                     0   \n",
       "2                    24059.0                     2                     0   \n",
       "\n",
       "                  Referee               Assistant 1            Assistant 2  \\\n",
       "0  LOMBARDI Domingo (URU)     CRISTOPHE Henry (BEL)    REGO Gilberto (BRA)   \n",
       "1       MACIAS Jose (ARG)  MATEUCCI Francisco (URU)  WARNKEN Alberto (CHI)   \n",
       "2     TEJADA Anibal (URU)   VALLARINO Ricardo (URU)    BALWAY Thomas (FRA)   \n",
       "\n",
       "   RoundID  MatchID Home Team Initials Away Team Initials  \n",
       "0      201     1096                FRA                MEX  \n",
       "1      201     1090                USA                BEL  \n",
       "2      201     1093                YUG                BRA  "
      ]
     },
     "execution_count": 439,
     "metadata": {},
     "output_type": "execute_result"
    }
   ],
   "source": [
    "# accessing the data rows\n",
    "wc_data.iloc[0:3] # rows 0 to index 2"
   ]
  },
  {
   "cell_type": "code",
   "execution_count": 445,
   "id": "6af5bdb4-4c27-441f-aedd-5255ccaafeb5",
   "metadata": {},
   "outputs": [
    {
     "data": {
      "text/plain": [
       "Year                                       1930\n",
       "Datetime                   14 Jul 1930 - 12:45 \n",
       "Stage                                   Group 2\n",
       "Stadium                          Parque Central\n",
       "City                                Montevideo \n",
       "Home Team Name                       Yugoslavia\n",
       "Home Team Goals                               2\n",
       "Away Team Goals                               1\n",
       "Away Team Name                           Brazil\n",
       "Win conditions                                 \n",
       "Attendance                              24059.0\n",
       "Half-time Home Goals                          2\n",
       "Half-time Away Goals                          0\n",
       "Referee                     TEJADA Anibal (URU)\n",
       "Assistant 1             VALLARINO Ricardo (URU)\n",
       "Assistant 2                 BALWAY Thomas (FRA)\n",
       "RoundID                                     201\n",
       "MatchID                                    1093\n",
       "Home Team Initials                          YUG\n",
       "Away Team Initials                          BRA\n",
       "Name: 2, dtype: object"
      ]
     },
     "execution_count": 445,
     "metadata": {},
     "output_type": "execute_result"
    }
   ],
   "source": [
    "wc_data.iloc[2] # accessing only row index 2"
   ]
  },
  {
   "cell_type": "code",
   "execution_count": 357,
   "id": "90b2298a-3071-4929-a2c3-f08ed7fef0ec",
   "metadata": {},
   "outputs": [
    {
     "data": {
      "text/html": [
       "<div>\n",
       "<style scoped>\n",
       "    .dataframe tbody tr th:only-of-type {\n",
       "        vertical-align: middle;\n",
       "    }\n",
       "\n",
       "    .dataframe tbody tr th {\n",
       "        vertical-align: top;\n",
       "    }\n",
       "\n",
       "    .dataframe thead th {\n",
       "        text-align: right;\n",
       "    }\n",
       "</style>\n",
       "<table border=\"1\" class=\"dataframe\">\n",
       "  <thead>\n",
       "    <tr style=\"text-align: right;\">\n",
       "      <th></th>\n",
       "      <th>Year</th>\n",
       "      <th>Home Team Goals</th>\n",
       "      <th>Away Team Goals</th>\n",
       "      <th>Attendance</th>\n",
       "      <th>Half-time Home Goals</th>\n",
       "      <th>Half-time Away Goals</th>\n",
       "      <th>RoundID</th>\n",
       "      <th>MatchID</th>\n",
       "    </tr>\n",
       "  </thead>\n",
       "  <tbody>\n",
       "    <tr>\n",
       "      <th>count</th>\n",
       "      <td>852.000000</td>\n",
       "      <td>852.000000</td>\n",
       "      <td>852.000000</td>\n",
       "      <td>850.000000</td>\n",
       "      <td>852.000000</td>\n",
       "      <td>852.000000</td>\n",
       "      <td>8.520000e+02</td>\n",
       "      <td>8.520000e+02</td>\n",
       "    </tr>\n",
       "    <tr>\n",
       "      <th>mean</th>\n",
       "      <td>1985.089202</td>\n",
       "      <td>1.811033</td>\n",
       "      <td>1.022300</td>\n",
       "      <td>45164.800000</td>\n",
       "      <td>0.708920</td>\n",
       "      <td>0.428404</td>\n",
       "      <td>1.066177e+07</td>\n",
       "      <td>6.134687e+07</td>\n",
       "    </tr>\n",
       "    <tr>\n",
       "      <th>std</th>\n",
       "      <td>22.448825</td>\n",
       "      <td>1.610255</td>\n",
       "      <td>1.087573</td>\n",
       "      <td>23485.249247</td>\n",
       "      <td>0.937414</td>\n",
       "      <td>0.691252</td>\n",
       "      <td>2.729613e+07</td>\n",
       "      <td>1.110572e+08</td>\n",
       "    </tr>\n",
       "    <tr>\n",
       "      <th>min</th>\n",
       "      <td>1930.000000</td>\n",
       "      <td>0.000000</td>\n",
       "      <td>0.000000</td>\n",
       "      <td>2000.000000</td>\n",
       "      <td>0.000000</td>\n",
       "      <td>0.000000</td>\n",
       "      <td>2.010000e+02</td>\n",
       "      <td>2.500000e+01</td>\n",
       "    </tr>\n",
       "    <tr>\n",
       "      <th>25%</th>\n",
       "      <td>1970.000000</td>\n",
       "      <td>1.000000</td>\n",
       "      <td>0.000000</td>\n",
       "      <td>30000.000000</td>\n",
       "      <td>0.000000</td>\n",
       "      <td>0.000000</td>\n",
       "      <td>2.620000e+02</td>\n",
       "      <td>1.188750e+03</td>\n",
       "    </tr>\n",
       "    <tr>\n",
       "      <th>50%</th>\n",
       "      <td>1990.000000</td>\n",
       "      <td>2.000000</td>\n",
       "      <td>1.000000</td>\n",
       "      <td>41579.500000</td>\n",
       "      <td>0.000000</td>\n",
       "      <td>0.000000</td>\n",
       "      <td>3.370000e+02</td>\n",
       "      <td>2.191000e+03</td>\n",
       "    </tr>\n",
       "    <tr>\n",
       "      <th>75%</th>\n",
       "      <td>2002.000000</td>\n",
       "      <td>3.000000</td>\n",
       "      <td>2.000000</td>\n",
       "      <td>61374.500000</td>\n",
       "      <td>1.000000</td>\n",
       "      <td>1.000000</td>\n",
       "      <td>2.497220e+05</td>\n",
       "      <td>4.395006e+07</td>\n",
       "    </tr>\n",
       "    <tr>\n",
       "      <th>max</th>\n",
       "      <td>2014.000000</td>\n",
       "      <td>10.000000</td>\n",
       "      <td>7.000000</td>\n",
       "      <td>173850.000000</td>\n",
       "      <td>6.000000</td>\n",
       "      <td>5.000000</td>\n",
       "      <td>9.741060e+07</td>\n",
       "      <td>3.001865e+08</td>\n",
       "    </tr>\n",
       "  </tbody>\n",
       "</table>\n",
       "</div>"
      ],
      "text/plain": [
       "              Year  Home Team Goals  Away Team Goals     Attendance  \\\n",
       "count   852.000000       852.000000       852.000000     850.000000   \n",
       "mean   1985.089202         1.811033         1.022300   45164.800000   \n",
       "std      22.448825         1.610255         1.087573   23485.249247   \n",
       "min    1930.000000         0.000000         0.000000    2000.000000   \n",
       "25%    1970.000000         1.000000         0.000000   30000.000000   \n",
       "50%    1990.000000         2.000000         1.000000   41579.500000   \n",
       "75%    2002.000000         3.000000         2.000000   61374.500000   \n",
       "max    2014.000000        10.000000         7.000000  173850.000000   \n",
       "\n",
       "       Half-time Home Goals  Half-time Away Goals       RoundID       MatchID  \n",
       "count            852.000000            852.000000  8.520000e+02  8.520000e+02  \n",
       "mean               0.708920              0.428404  1.066177e+07  6.134687e+07  \n",
       "std                0.937414              0.691252  2.729613e+07  1.110572e+08  \n",
       "min                0.000000              0.000000  2.010000e+02  2.500000e+01  \n",
       "25%                0.000000              0.000000  2.620000e+02  1.188750e+03  \n",
       "50%                0.000000              0.000000  3.370000e+02  2.191000e+03  \n",
       "75%                1.000000              1.000000  2.497220e+05  4.395006e+07  \n",
       "max                6.000000              5.000000  9.741060e+07  3.001865e+08  "
      ]
     },
     "execution_count": 357,
     "metadata": {},
     "output_type": "execute_result"
    }
   ],
   "source": [
    "wc_data.describe() # this gives summary statistics of the numerical items in the dataset"
   ]
  },
  {
   "cell_type": "code",
   "execution_count": 359,
   "id": "5a4bb5b3-8c74-4e47-a95a-e28b50e28c4c",
   "metadata": {},
   "outputs": [
    {
     "data": {
      "text/plain": [
       "array([[<Axes: title={'center': 'Year'}>,\n",
       "        <Axes: title={'center': 'Home Team Goals'}>,\n",
       "        <Axes: title={'center': 'Away Team Goals'}>],\n",
       "       [<Axes: title={'center': 'Attendance'}>,\n",
       "        <Axes: title={'center': 'Half-time Home Goals'}>,\n",
       "        <Axes: title={'center': 'Half-time Away Goals'}>],\n",
       "       [<Axes: title={'center': 'RoundID'}>,\n",
       "        <Axes: title={'center': 'MatchID'}>, <Axes: >]], dtype=object)"
      ]
     },
     "execution_count": 359,
     "metadata": {},
     "output_type": "execute_result"
    },
    {
     "data": {
      "image/png": "[encoded data removed]",
      "text/plain": [
       "<Figure size 640x480 with 9 Axes>"
      ]
     },
     "metadata": {},
     "output_type": "display_data"
    }
   ],
   "source": [
    "wc_data.hist() # gives histograms of the numerical data in the dataset"
   ]
  },
  {
   "cell_type": "code",
   "execution_count": 423,
   "id": "9d92aa22-a616-4e43-8e6f-4cc961389267",
   "metadata": {},
   "outputs": [
    {
     "data": {
      "image/png": "[encoded data removed]",
      "text/plain": [
       "<Figure size 640x480 with 1 Axes>"
      ]
     },
     "metadata": {},
     "output_type": "display_data"
    }
   ],
   "source": [
    "# ploting a bar chart for the data\n",
    "x_axis = wc_data['Year'] # defining what i want for the x axis\n",
    "y_axis = wc_data['Home Team Goals'] # defining what i want for the y axis\n",
    "myplt.bar(x_axis,y_axis) # using the bar graph fuunction and passing the axis variable to it\n",
    "myplt.xlabel(\"Years\") # labeling the x axis\n",
    "myplt.ylabel(\"Home goals\") # labeling the y axis\n",
    "myplt.legend('Home goals') # putting a legend to the data\n",
    "myplt.title('Home goal by year') # adding a title to my data\n",
    "myplt.show()"
   ]
  },
  {
   "cell_type": "code",
   "execution_count": 305,
   "id": "707ca4cf-45fa-4b7d-81d8-a5dbf6a116f4",
   "metadata": {},
   "outputs": [
    {
     "data": {
      "text/plain": [
       "array([0., 0., 0., 0., 0., 0., 0., 0., 0., 0., 0., 0., 0., 0., 0., 0., 0.,\n",
       "       0., 0., 0.])"
      ]
     },
     "execution_count": 305,
     "metadata": {},
     "output_type": "execute_result"
    }
   ],
   "source": [
    "zeroes_matrix = np.zeros(20)\n",
    "zeroes_matrix"
   ]
  },
  {
   "cell_type": "code",
   "execution_count": 306,
   "id": "50a7fb9e-0829-4514-b6c7-ea9a9d81539d",
   "metadata": {},
   "outputs": [
    {
     "data": {
      "text/plain": [
       "['tip', 'lewis', 'Mary']"
      ]
     },
     "execution_count": 306,
     "metadata": {},
     "output_type": "execute_result"
    }
   ],
   "source": [
    "first_names = ['tip','lewis','Mary']\n",
    "first_names_array = np.array(first_names)\n",
    "first_names"
   ]
  },
  {
   "cell_type": "code",
   "execution_count": 307,
   "id": "6e8b6ac3-c07a-4fdf-b63f-d76ee485cbce",
   "metadata": {},
   "outputs": [
    {
     "data": {
      "text/plain": [
       "array(['tip', 'lewis', 'Mary'], dtype='<U5')"
      ]
     },
     "execution_count": 307,
     "metadata": {},
     "output_type": "execute_result"
    }
   ],
   "source": [
    "second_names = ['tip','lewis','Mary']\n",
    "second_names_array = np.array(second_names)\n",
    "second_names_array"
   ]
  },
  {
   "cell_type": "code",
   "execution_count": 308,
   "id": "b0698ed1-9883-474b-8feb-49e3da66aeb2",
   "metadata": {},
   "outputs": [
    {
     "ename": "UFuncTypeError",
     "evalue": "ufunc 'add' did not contain a loop with signature matching types (dtype('<U5'), dtype('<U5')) -> None",
     "output_type": "error",
     "traceback": [
      "\u001b[0;31m---------------------------------------------------------------------------\u001b[0m",
      "\u001b[0;31mUFuncTypeError\u001b[0m                            Traceback (most recent call last)",
      "Cell \u001b[0;32mIn[308], line 1\u001b[0m\n\u001b[0;32m----> 1\u001b[0m second_names_array \u001b[38;5;241m+\u001b[39m first_names_array\n",
      "\u001b[0;31mUFuncTypeError\u001b[0m: ufunc 'add' did not contain a loop with signature matching types (dtype('<U5'), dtype('<U5')) -> None"
     ]
    }
   ],
   "source": [
    "second_names_array + first_names_array # trying to add the first names to the names array"
   ]
  },
  {
   "cell_type": "code",
   "execution_count": null,
   "id": "8fbc3dcb-0a49-4876-8fb6-7d88ea11a1df",
   "metadata": {},
   "outputs": [],
   "source": []
  }
 ],
 "metadata": {
  "kernelspec": {
   "display_name": "Python 3 (ipykernel)",
   "language": "python",
   "name": "python3"
  },
  "language_info": {
   "codemirror_mode": {
    "name": "ipython",
    "version": 3
   },
   "file_extension": ".py",
   "mimetype": "text/x-python",
   "name": "python",
   "nbconvert_exporter": "python",
   "pygments_lexer": "ipython3",
   "version": "3.11.9"
  }
 },
 "nbformat": 4,
 "nbformat_minor": 5
}
